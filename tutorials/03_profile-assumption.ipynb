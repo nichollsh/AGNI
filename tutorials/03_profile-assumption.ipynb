{
 "cells": [
  {
   "cell_type": "markdown",
   "metadata": {},
   "source": [
    "## Calculate temperature profiles under different modelling assumptions"
   ]
  },
  {
   "cell_type": "code",
   "execution_count": null,
   "metadata": {},
   "outputs": [],
   "source": [
    "# Set directory\n",
    "ROOT_DIR = abspath(joinpath(pwd(),\"../\"))\n",
    "if !haskey(ENV, \"RAD_DIR\")\n",
    "    ENV[\"RAD_DIR\"] = joinpath(ROOT_DIR,\"socrates\")\n",
    "end"
   ]
  },
  {
   "cell_type": "code",
   "execution_count": null,
   "metadata": {},
   "outputs": [],
   "source": [
    "# Import system packages\n",
    "using Pkg\n",
    "# using Revise\n",
    "\n",
    "using Printf\n",
    "using DelimitedFiles\n",
    "using Plots\n",
    "default(label=nothing, grid=true)"
   ]
  },
  {
   "cell_type": "code",
   "execution_count": null,
   "metadata": {},
   "outputs": [],
   "source": [
    "# Import AGNI\n",
    "Pkg.activate(ROOT_DIR)\n",
    "using AGNI\n",
    "\n",
    "# Normal logging from AGNI module\n",
    "AGNI.setup_logging(\"\",1)"
   ]
  },
  {
   "cell_type": "code",
   "execution_count": null,
   "metadata": {},
   "outputs": [],
   "source": [
    "R_earth = 6.371e6 # m\n"
   ]
  },
  {
   "cell_type": "markdown",
   "metadata": {},
   "source": [
    "### Define atmosphere parameters"
   ]
  },
  {
   "cell_type": "code",
   "execution_count": null,
   "metadata": {},
   "outputs": [],
   "source": [
    "# Configuration options\n",
    "instellation    = 2000.0  # Solar flux [W m-2]\n",
    "gravity         = 9.81\n",
    "radius          = 1 * R_earth\n",
    "zenith          = 54.74\n",
    "albedo          = 0.0\n",
    "s0_fact         = 0.25\n",
    "nlev_centre     = 55\n",
    "p_surf          = 300.0     # bar\n",
    "t_surf          = 2000.0\n",
    "p_top           = 1e-5      # bar\n",
    "mole_fractions  = Dict([ (\"H2O\", 0.2), (\"H2\", 0.8)])\n",
    "\n",
    "spectral_file = joinpath(ROOT_DIR,\"res/spectral_files/Dayspring/48/Dayspring.sf\")\n",
    "star_file     = joinpath(ROOT_DIR,\"res/stellar_spectra/sun.txt\");\n"
   ]
  },
  {
   "cell_type": "code",
   "execution_count": null,
   "metadata": {},
   "outputs": [],
   "source": [
    "# Create output directory\n",
    "output_dir = joinpath(ROOT_DIR,\"out\")\n",
    "rm(output_dir,force=true,recursive=true)\n",
    "mkdir(output_dir);"
   ]
  },
  {
   "cell_type": "markdown",
   "metadata": {},
   "source": [
    "### Initialise the atmosphere"
   ]
  },
  {
   "cell_type": "code",
   "execution_count": null,
   "metadata": {},
   "outputs": [],
   "source": [
    "# Setup atmosphere\n",
    "atmos = atmosphere.Atmos_t()\n",
    "atmosphere.setup!(atmos, ROOT_DIR, output_dir,\n",
    "                        spectral_file,\n",
    "                        instellation, s0_fact, albedo, zenith,\n",
    "                        t_surf,\n",
    "                        gravity, radius,\n",
    "                        nlev_centre, p_surf, p_top,\n",
    "                        mole_fractions, \"\",\n",
    "                        flag_gcontinuum=true,\n",
    "                        flag_rayleigh=true,\n",
    "                        thermo_functions=true\n",
    "                        )\n",
    "atmosphere.allocate!(atmos, star_file)\n",
    "setpt.isothermal!(atmos, t_surf)"
   ]
  },
  {
   "cell_type": "code",
   "execution_count": null,
   "metadata": {},
   "outputs": [],
   "source": [
    "atmos_results::Dict{String, atmosphere.Atmos_t} = Dict{String, atmosphere.Atmos_t}()"
   ]
  },
  {
   "cell_type": "markdown",
   "metadata": {},
   "source": [
    "## Run the model under various scenarios"
   ]
  },
  {
   "cell_type": "markdown",
   "metadata": {},
   "source": [
    "### Fixed surface temperature"
   ]
  },
  {
   "cell_type": "code",
   "execution_count": null,
   "metadata": {},
   "outputs": [],
   "source": [
    "atmos.tmp_surf = deepcopy(t_surf)\n",
    "println(atmos.tmp_surf)"
   ]
  },
  {
   "cell_type": "code",
   "execution_count": null,
   "metadata": {},
   "outputs": [],
   "source": [
    "# Isothermal\n",
    "setpt.isothermal!(atmos, atmos.tmp_surf)\n",
    "atmosphere.calc_layer_props!(atmos)\n",
    "energy.calc_fluxes!(atmos, true, false, true, false, false)\n",
    "atmosphere.calc_observed_rho!(atmos)\n",
    "atmos_results[\"1_iso\"] = deepcopy(atmos)\n",
    ";"
   ]
  },
  {
   "cell_type": "code",
   "execution_count": null,
   "metadata": {},
   "outputs": [],
   "source": [
    "# Adiabatic\n",
    "setpt.dry_adiabat!(atmos)\n",
    "atmosphere.calc_layer_props!(atmos)\n",
    "energy.calc_fluxes!(atmos, true, false, true, false, false)\n",
    "atmosphere.calc_observed_rho!(atmos)\n",
    "atmos_results[\"1_ad\"] = deepcopy(atmos)\n",
    ";"
   ]
  },
  {
   "cell_type": "code",
   "execution_count": null,
   "metadata": {},
   "outputs": [],
   "source": [
    "# Adiabatic + stratosphere\n",
    "setpt.dry_adiabat!(atmos)\n",
    "setpt.stratosphere!(atmos, phys.calc_Tskin(atmos.instellation, atmos.albedo_b))\n",
    "atmosphere.calc_layer_props!(atmos)\n",
    "energy.calc_fluxes!(atmos, true, false, true, false, false)\n",
    "atmosphere.calc_observed_rho!(atmos)\n",
    "atmos_results[\"1_ad+strat\"] = deepcopy(atmos)\n",
    ";"
   ]
  },
  {
   "cell_type": "code",
   "execution_count": null,
   "metadata": {},
   "outputs": [],
   "source": [
    "# Radiative-convective\n",
    "setpt.isothermal!(atmos, t_surf) # initial guess\n",
    "succ = solver.solve_energy!(atmos,\n",
    "                                    sol_type=1,\n",
    "                                    method=1,\n",
    "                                    dx_max=200.0,\n",
    "                                    ls_method=2,\n",
    "                                    modplot=0,\n",
    "                                    save_frames=false,\n",
    "                                    detect_plateau=false\n",
    "                                    )\n",
    "println(\"Solver success? $succ\")\n",
    "atmosphere.calc_observed_rho!(atmos)\n",
    "atmos_results[\"1_radconv\"] = deepcopy(atmos)\n",
    ";"
   ]
  },
  {
   "cell_type": "markdown",
   "metadata": {},
   "source": [
    "### Solving for energy balance"
   ]
  },
  {
   "cell_type": "code",
   "execution_count": null,
   "metadata": {},
   "outputs": [],
   "source": [
    "# Isothermal\n",
    "succ = solver.solve_prescribed!(atmos, sol_type=3, atm_type=1)\n",
    "println(\"Solver success? $succ\")\n",
    "atmosphere.calc_observed_rho!(atmos)\n",
    "atmos_results[\"3_iso\"] = deepcopy(atmos)\n",
    ";"
   ]
  },
  {
   "cell_type": "code",
   "execution_count": null,
   "metadata": {},
   "outputs": [],
   "source": [
    "# Adiabatic\n",
    "succ = solver.solve_prescribed!(atmos, sol_type=3, atm_type=2)\n",
    "println(\"Solver success? $succ\")\n",
    "atmosphere.calc_observed_rho!(atmos)\n",
    "atmos_results[\"3_ad\"] = deepcopy(atmos)\n",
    ";"
   ]
  },
  {
   "cell_type": "code",
   "execution_count": null,
   "metadata": {},
   "outputs": [],
   "source": [
    "# Adiabatic + stratosphere\n",
    "succ = solver.solve_prescribed!(atmos, sol_type=3, atm_type=3)\n",
    "println(\"Solver success? $succ\")\n",
    "atmosphere.calc_observed_rho!(atmos)\n",
    "atmos_results[\"3_ad+strat\"] = deepcopy(atmos)\n",
    ";"
   ]
  },
  {
   "cell_type": "code",
   "execution_count": null,
   "metadata": {},
   "outputs": [],
   "source": [
    "# Radiative-convective\n",
    "setpt.isothermal!(atmos, t_surf) # initial guess\n",
    "succ = solver.solve_energy!(atmos,\n",
    "                                    sol_type=3,\n",
    "                                    method=1,\n",
    "                                    dx_max=200.0,\n",
    "                                    ls_method=2,\n",
    "                                    modplot=0,\n",
    "                                    save_frames=false,\n",
    "                                    detect_plateau=false\n",
    "                                    )\n",
    "println(\"Solver success? $succ\")\n",
    "atmosphere.calc_observed_rho!(atmos)\n",
    "atmos_results[\"3_radconv\"] = deepcopy(atmos)\n",
    ";"
   ]
  },
  {
   "cell_type": "code",
   "execution_count": null,
   "metadata": {},
   "outputs": [],
   "source": [
    "# save to netcdf\n",
    "for (k,atm) in atmos_results\n",
    "    save.write_ncdf(atm, joinpath(output_dir,k*\".nc\"))\n",
    "end\n"
   ]
  },
  {
   "cell_type": "code",
   "execution_count": null,
   "metadata": {},
   "outputs": [],
   "source": [
    "fig = plot(legend=:right, size=(700,600),\n",
    "            ylabel=\"Radius [Earth radii]\",\n",
    "            xlabel=\"Temperature [K]\", legendfontsize=10, labelfontsize=12, tickfontsize=12, frame=:box)\n",
    "\n",
    "lw = 2\n",
    "\n",
    "Teqm = phys.calc_Tskin(atmos.instellation, atmos.albedo_b)\n",
    "vline!(fig, [Teqm], ls=:dash, color=:silver, lw=lw, label=@sprintf(\"Skin = %.1f K\", Teqm))\n",
    "\n",
    "# default axis limits\n",
    "y_min = 10.0\n",
    "y_max = 0.5\n",
    "x_min = -500\n",
    "x_max = 10.0\n",
    "\n",
    "\n",
    "cols = Dict([(\"iso\",\"red\"), (\"ad\",\"lime\"), (\"ad+strat\",\"blue\"), (\"radconv\",\"black\")])\n",
    "\n",
    "# plot\n",
    "for (k,atm) in atmos_results\n",
    "\n",
    "    spl = split(k,\"_\")\n",
    "\n",
    "    # line label and color\n",
    "    if spl[1] == \"1\"\n",
    "        label = \"BC:Tsurf, \"\n",
    "        ls = :dashdot\n",
    "    else\n",
    "        label = \"BC:Flux, \"\n",
    "        ls = :solid\n",
    "    end\n",
    "    label *= spl[2]\n",
    "    col = cols[spl[2]]\n",
    "\n",
    "    # plot profile\n",
    "    plot!(fig, atm.tmp, atm.r / R_earth, label=label, lw=lw, linestyle=ls, color=col)\n",
    "\n",
    "    # plot photosphere point\n",
    "    atmosphere.calc_observed_rho!(atm)\n",
    "    rtrans = atm.transspec_r/R_earth\n",
    "    scatter!(fig, [atm.transspec_tmp], [rtrans], color=col)\n",
    "    plot!(fig, [x_min, atm.transspec_tmp], [rtrans,rtrans], color=col, linealpha=0.5, linestyle=ls)\n",
    "\n",
    "    # axis limits\n",
    "    y_min = min( minimum(atm.r) / R_earth, y_min)\n",
    "    y_max = max( rtrans, y_max)\n",
    "    x_max = max( maximum(atm.tmp), x_max)\n",
    "end\n",
    "\n",
    "y_max *= 1.1\n",
    "yaxis!(ylim=(1.0, y_max), yticks=range(1.0, y_max, step=0.1))\n",
    "xaxis!(xlim=(x_min, x_max), xticks=range(0.0, x_max, step=500))\n",
    "\n",
    "display(fig)"
   ]
  }
 ],
 "metadata": {
  "kernelspec": {
   "display_name": "Julia 1.11.7",
   "language": "julia",
   "name": "julia-1.11"
  },
  "language_info": {
   "file_extension": ".jl",
   "mimetype": "application/julia",
   "name": "julia",
   "version": "1.11.7"
  }
 },
 "nbformat": 4,
 "nbformat_minor": 2
}
