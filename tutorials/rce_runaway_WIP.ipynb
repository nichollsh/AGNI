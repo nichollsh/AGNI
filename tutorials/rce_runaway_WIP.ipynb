{
 "cells": [
  {
   "cell_type": "markdown",
   "metadata": {},
   "source": [
    "## Calculate OLR versus $T_s$ with radiative-convective atmospheres"
   ]
  },
  {
   "cell_type": "markdown",
   "metadata": {},
   "source": [
    "### Import things\n",
    "This assumes that SOCRATES is installed at `AGNI/socrates/`. Modify this as required."
   ]
  },
  {
   "cell_type": "code",
   "execution_count": 1,
   "metadata": {},
   "outputs": [
    {
     "data": {
      "text/plain": [
       "\"/Users/nichollsh/Projects/AGNI/socrates\""
      ]
     },
     "metadata": {},
     "output_type": "display_data"
    }
   ],
   "source": [
    "# Set directory\n",
    "ROOT_DIR = abspath(joinpath(pwd(),\"../\"))\n",
    "ENV[\"RAD_DIR\"] = joinpath(ROOT_DIR,\"socrates\")"
   ]
  },
  {
   "cell_type": "code",
   "execution_count": 2,
   "metadata": {},
   "outputs": [],
   "source": [
    "# Import system packages\n",
    "using Printf\n",
    "using Plots\n",
    "\n",
    "# Import AGNI\n",
    "using AGNI\n",
    "import AGNI.atmosphere as atmosphere\n",
    "import AGNI.solver as nl\n",
    "import AGNI.dump as dump\n",
    "import AGNI.plotting as plotting\n",
    "\n",
    "# Disable logging from AGNI module\n",
    "AGNI.setup_logging(\"\",false)"
   ]
  },
  {
   "cell_type": "markdown",
   "metadata": {},
   "source": [
    "### Define atmosphere parameters"
   ]
  },
  {
   "cell_type": "code",
   "execution_count": 3,
   "metadata": {},
   "outputs": [],
   "source": [
    "# Configuration options\n",
    "instellation    = 1360.0  # Solar flux [W m-2]\n",
    "gravity         = 9.81\n",
    "radius          = 6.37e6\n",
    "nlev_centre     = 40\n",
    "p_surf          = 270.0     # bar\n",
    "t_surf          = 1000.0\n",
    "p_top           = 1e-5      # bar \n",
    "mole_fractions  = Dict([(\"H2O\", 1.0)])\n",
    "condensates     = [\"H2O\"]\n",
    "\n",
    "spectral_file = joinpath(ROOT_DIR,\"res/spectral_files/Frostflow/16/Frostflow.sf\")\n",
    "star_file     = joinpath(ROOT_DIR,\"res/stellar_spectra/sun.txt\");\n"
   ]
  },
  {
   "cell_type": "code",
   "execution_count": 4,
   "metadata": {},
   "outputs": [],
   "source": [
    "# Create output directory\n",
    "output_dir = \"/tmp/agni_notebook/\"\n",
    "rm(output_dir,force=true,recursive=true)\n",
    "mkdir(output_dir);"
   ]
  },
  {
   "cell_type": "markdown",
   "metadata": {},
   "source": [
    "### Initialise the atmosphere"
   ]
  },
  {
   "cell_type": "code",
   "execution_count": 5,
   "metadata": {},
   "outputs": [
    {
     "name": "stdout",
     "output_type": "stream",
     "text": [
      "[\u001b[32m\u001b[1m INFO  \u001b[21m\u001b[0m] Composition set by dict \n",
      "[\u001b[32m\u001b[1m INFO  \u001b[21m\u001b[0m]     added gas H2O \n",
      "[\u001b[32m\u001b[1m INFO  \u001b[21m\u001b[0m] Inserting stellar spectrum \n"
     ]
    }
   ],
   "source": [
    "# Setup atmosphere\n",
    "atmos = atmosphere.Atmos_t()\n",
    "atmosphere.setup!(atmos, ROOT_DIR, output_dir, \n",
    "                        spectral_file,\n",
    "                        instellation, 0.375, 0.0, 48.19,\n",
    "                        t_surf,  \n",
    "                        gravity, radius,\n",
    "                        nlev_centre, p_surf, p_top,\n",
    "                        mf_dict=mole_fractions,\n",
    "                        condensates=condensates,\n",
    "                        flag_gcontinuum=true,\n",
    "                        thermo_functions=false\n",
    "                        )\n",
    "atmosphere.allocate!(atmos, star_file)"
   ]
  },
  {
   "cell_type": "markdown",
   "metadata": {},
   "source": [
    "### Run the model for a high-temperature case\n",
    "This provides an initial guess from which later simulations will be initialised"
   ]
  },
  {
   "cell_type": "code",
   "execution_count": null,
   "metadata": {},
   "outputs": [],
   "source": [
    "atmos.tmp_surf = 3050.0\n",
    "atmos.tmpl[:] .= 3000\n",
    "atmos.tmp[:] .= 3000;"
   ]
  },
  {
   "cell_type": "code",
   "execution_count": null,
   "metadata": {},
   "outputs": [],
   "source": [
    "solver_success = nl.solve_energy!(atmos, \n",
    "                                    sol_type=1,         # Conserve energy, but with fixed surface temperature\n",
    "                                    sens_heat=true,    # Do not include sensible heat transport\n",
    "                                    latent=true,        # Include condensation\n",
    "                                    method=1,           # Use the Newton-Raphson method\n",
    "                                    dx_max=400.0,       # Allow large step sizes because of the poor initial guess\n",
    "                                    linesearch=true ,   # Enable Linesearch\n",
    "                                    save_frames=false, modplot=1, # disable plotting \n",
    "                                    conv_atol=0.1\n",
    "                                    )\n",
    "println(\"Solver success? $solver_success\")"
   ]
  },
  {
   "cell_type": "code",
   "execution_count": null,
   "metadata": {},
   "outputs": [],
   "source": [
    "out = joinpath(output_dir, \"base.ncdf\")\n",
    "dump.write_ncdf(atmos, out);"
   ]
  },
  {
   "cell_type": "markdown",
   "metadata": {},
   "source": [
    "Plot this profile, to check that it looks reasonable..."
   ]
  },
  {
   "cell_type": "code",
   "execution_count": null,
   "metadata": {},
   "outputs": [],
   "source": [
    "plotting.plot_pt(atmos, \"\")"
   ]
  },
  {
   "cell_type": "markdown",
   "metadata": {},
   "source": [
    "This shows convection from the surface and condensation in the upper atmosphere. This is because there's large upward energy flux as the planet attempts to cool down under the modest instellation.     "
   ]
  },
  {
   "cell_type": "markdown",
   "metadata": {},
   "source": [
    "### Run the model for a range of surface temperatures"
   ]
  },
  {
   "cell_type": "code",
   "execution_count": null,
   "metadata": {},
   "outputs": [],
   "source": [
    "num_loops = 5\n",
    "tmp_arr = range(start=2000.0, stop=1500.0, length=num_loops)\n",
    "atm_arr = atmosphere.Atmos_t[]\n",
    "\n",
    "for (i,tmp) in enumerate(tmp_arr)\n",
    "    # Set new surface temperature \n",
    "    println(\"Running model for tmp_surf = $tmp\")\n",
    "    atmos.tmp_surf = tmp \n",
    "\n",
    "    # Help solver by changing initial guess\n",
    "    clamp!(atmos.tmpl, 0.0, tmp)\n",
    "    clamp!(atmos.tmp, 0.0, tmp)\n",
    "\n",
    "    # Run model\n",
    "    solver_success = nl.solve_energy!(atmos, \n",
    "                                    sol_type=1,         \n",
    "                                    sens_heat=true,   \n",
    "                                    latent=true,        \n",
    "                                    method=1,           \n",
    "                                    dx_max=300.0,        # Smaller steps\n",
    "                                    linesearch=true ,   \n",
    "                                    save_frames=false, modplot=1,\n",
    "                                    conv_atol=0.1      # Tighter tolerance on solver \n",
    "                                    )\n",
    "\n",
    "    # Store result\n",
    "    push!(atm_arr, deepcopy(atmos))\n",
    "\n",
    "    println(\"---------------------------------\")\n",
    "end \n",
    "println(\"Done!\")"
   ]
  },
  {
   "cell_type": "markdown",
   "metadata": {},
   "source": [
    "### Make plot of temperature profiles"
   ]
  },
  {
   "cell_type": "code",
   "execution_count": null,
   "metadata": {},
   "outputs": [],
   "source": [
    "plt = plot(framestyle=:box, size=(500,400), dpi=300)\n",
    "\n",
    "for this_atm in atm_arr\n",
    "    plot!(plt, this_atm.tmpl, this_atm.pl, label=@sprintf(\"%.1f\",this_atm.tmp_surf))\n",
    "end \n",
    "\n",
    "xlabel!(plt, \"Temperature [K]\")\n",
    "ylabel!(plt, \"Pressure [bar]\")\n",
    "yflip!(plt)\n",
    "yaxis!(plt, yscale=:log10)\n",
    "display(plt)"
   ]
  },
  {
   "cell_type": "markdown",
   "metadata": {},
   "source": [
    "### Make plot of OLR vs $T_s$"
   ]
  },
  {
   "cell_type": "code",
   "execution_count": null,
   "metadata": {},
   "outputs": [],
   "source": [
    "plt = plot(framestyle=:box, size=(700,400))\n",
    "\n",
    "olr_arr = Float64[]\n",
    "for this_atm in atm_arr\n",
    "    push!(olr_arr, this_atm.flux_u_lw[1])\n",
    "end \n",
    "\n",
    "hline!(plt, [281.0], label=\"S-N limit\", color=\"black\", linestyle=:dash)\n",
    "\n",
    "# Plot results\n",
    "plot!(plt, tmp_arr, olr_arr, label=\"AGNI result\", color=\"red\")\n",
    "scatter!(plt, tmp_arr, olr_arr, label=\"\", color=\"red\")\n",
    "\n",
    "xlabel!(plt, \"Surface temperature [K]\")\n",
    "ylabel!(plt, \"OLR [W m⁻²]\")\n",
    "display(plt)"
   ]
  }
 ],
 "metadata": {
  "kernelspec": {
   "display_name": "Julia 1.9.1",
   "language": "julia",
   "name": "julia-1.9"
  },
  "language_info": {
   "file_extension": ".jl",
   "mimetype": "application/julia",
   "name": "julia",
   "version": "1.9.1"
  }
 },
 "nbformat": 4,
 "nbformat_minor": 2
}
