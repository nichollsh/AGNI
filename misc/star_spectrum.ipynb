{
 "cells": [
  {
   "cell_type": "code",
   "execution_count": null,
   "id": "84cf2952",
   "metadata": {},
   "outputs": [],
   "source": [
    "# Import system packages\n",
    "using Printf\n",
    "using DelimitedFiles\n",
    "using Plots\n",
    "using LaTeXStrings"
   ]
  },
  {
   "cell_type": "code",
   "execution_count": null,
   "id": "a8606cd9",
   "metadata": {},
   "outputs": [],
   "source": [
    "# Import AGNI\n",
    "ROOT_DIR = abspath(pwd(),\"../\")\n",
    "using AGNI\n",
    "\n",
    "# Disable logging from AGNI module\n",
    "AGNI.setup_logging(\"\",1)"
   ]
  },
  {
   "cell_type": "code",
   "execution_count": null,
   "id": "66bee536",
   "metadata": {},
   "outputs": [],
   "source": [
    "\"\"\"Trapezoid integration of y wrt x\"\"\"\n",
    "function trapezoid(x, y)\n",
    "    total = 0.0\n",
    "\n",
    "    for i in 1:length(x)-1\n",
    "        h = x[i+1] - x[i]\n",
    "        total += h * (y[i+1] + y[i]) / 2\n",
    "    end\n",
    "\n",
    "    return total\n",
    "end"
   ]
  },
  {
   "cell_type": "code",
   "execution_count": null,
   "id": "80b7b005",
   "metadata": {},
   "outputs": [],
   "source": [
    "R_earth = 6.371e6\n",
    "M_earth = 5.972e24\n",
    "S_earth = 1362.0\n",
    "\n",
    "T_sun = 5772.0"
   ]
  },
  {
   "cell_type": "code",
   "execution_count": null,
   "id": "599ae299",
   "metadata": {},
   "outputs": [],
   "source": [
    "# Generate blackbody for sun\n",
    "wl_bb, fl_bb = AGNI.spectrum.blackbody_star(T_sun, S_earth)"
   ]
  },
  {
   "cell_type": "code",
   "execution_count": null,
   "id": "0aeaa8c1",
   "metadata": {},
   "outputs": [],
   "source": [
    "integ = trapezoid(wl_bb, fl_bb)\n",
    "integ *= 1e-7"
   ]
  },
  {
   "cell_type": "code",
   "execution_count": null,
   "id": "52d388d5",
   "metadata": {},
   "outputs": [],
   "source": [
    "# Load sun spectrum\n",
    "wl_su, fl_su = AGNI.spectrum.load_from_file(\"../res/stellar_spectra/sun.txt\")"
   ]
  },
  {
   "cell_type": "code",
   "execution_count": null,
   "id": "8eff5ee9",
   "metadata": {},
   "outputs": [],
   "source": [
    "integ = trapezoid(wl_su, fl_su)\n",
    "integ *= 1e-7"
   ]
  },
  {
   "cell_type": "code",
   "execution_count": null,
   "id": "1d02840d",
   "metadata": {},
   "outputs": [],
   "source": [
    "fig = plot(yscale=:log10, xscale=:log10, ylim=(1e-8, 1e8))\n",
    "\n",
    "plot!(fig, wl_bb, fl_bb, label=\"blackbody\")\n",
    "plot!(fig, wl_su, fl_su, label=\"gueymard\")\n",
    "\n",
    "display(fig)"
   ]
  }
 ],
 "metadata": {
  "kernelspec": {
   "display_name": "Julia 1.11.4",
   "language": "julia",
   "name": "julia-1.11"
  },
  "language_info": {
   "file_extension": ".jl",
   "mimetype": "application/julia",
   "name": "julia",
   "version": "1.11.4"
  }
 },
 "nbformat": 4,
 "nbformat_minor": 5
}
