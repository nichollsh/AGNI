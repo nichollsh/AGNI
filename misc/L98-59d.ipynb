{
 "cells": [
  {
   "cell_type": "code",
   "execution_count": 1,
   "metadata": {},
   "outputs": [],
   "source": [
    "# Import system packages\n",
    "using Printf\n",
    "using DelimitedFiles\n",
    "using Plots\n",
    "using LaTeXStrings"
   ]
  },
  {
   "cell_type": "code",
   "execution_count": 2,
   "metadata": {},
   "outputs": [
    {
     "data": {
      "text/plain": [
       "3"
      ]
     },
     "metadata": {},
     "output_type": "display_data"
    }
   ],
   "source": [
    "#            Psurf/kbar         Msurf/Me            Rsurf/Re            Fint/ Wm-2\n",
    "structure = [36.606020371988    1.89635484051907    1.26977486802543    0.1\n",
    "             72.7858858655158   1.87155246958974    1.19269414869405    0.1\n",
    "             203.510277091369   1.82923648889318    1.03435826758376    0.1    ]\n",
    "nsamps = size(structure)[1]"
   ]
  },
  {
   "cell_type": "code",
   "execution_count": 3,
   "metadata": {},
   "outputs": [],
   "source": [
    "# Import AGNI\n",
    "ROOT_DIR = abspath(joinpath(pwd(),\"../\"))\n",
    "using AGNI\n",
    "import AGNI.atmosphere as atmosphere\n",
    "import AGNI.solver as nl\n",
    "import AGNI.setpt as setpt\n",
    "import AGNI.dump as dump\n",
    "import AGNI.plotting as plotting\n",
    "\n",
    "# Disable logging from AGNI module\n",
    "AGNI.setup_logging(\"\",1)"
   ]
  },
  {
   "cell_type": "code",
   "execution_count": 4,
   "metadata": {},
   "outputs": [
    {
     "data": {
      "text/plain": [
       "5.972e24"
      ]
     },
     "metadata": {},
     "output_type": "display_data"
    }
   ],
   "source": [
    "R_earth = 6.371e6\n",
    "M_earth = 5.972e24"
   ]
  },
  {
   "cell_type": "code",
   "execution_count": 5,
   "metadata": {},
   "outputs": [
    {
     "data": {
      "text/plain": [
       "\"/home/n/nichollsh/AGNI/out/\""
      ]
     },
     "metadata": {},
     "output_type": "display_data"
    }
   ],
   "source": [
    "# Configuration options\n",
    "instellation    = 6501.0\n",
    "mass            = 1.873*M_earth\n",
    "radius          = 1.265*R_earth\n",
    "gravity         = 6.67e-11 * mass / radius^2\n",
    "p_surf          = 5.57e4\n",
    "\n",
    "s0_fact         = 0.25\n",
    "zenith_degrees  = 54.74\n",
    "albedo_b        = 0.0\n",
    "nlev_centre     = 58\n",
    "p_top           = 1e-5      # bar\n",
    "mole_fractions  = Dict([\n",
    "                        (\"H2S\", 0.23988329190194904),\n",
    "                        (\"SO2\", 0.0044668359215096305),\n",
    "                        (\"N2\" , 5.623413251903491e-6),\n",
    "                        (\"H2\" , 0.7093907341517219)\n",
    "                    ])\n",
    "tmp_surf        = 3100.0\n",
    "thermo          = true\n",
    "\n",
    "albedo_data   = joinpath(ROOT_DIR,\"res/surface_albedos/lunar_marebasalt.dat\")\n",
    "spectral_file = joinpath(ROOT_DIR,\"res/spectral_files/Honeyside/256/Honeyside.sf\")\n",
    "star_file     = joinpath(ROOT_DIR,\"res/stellar_spectra/l-98-59.txt\")\n",
    "output_dir    = joinpath(ROOT_DIR,\"out/\")"
   ]
  },
  {
   "cell_type": "code",
   "execution_count": 6,
   "metadata": {},
   "outputs": [],
   "source": [
    "# Create output directory\n",
    "rm(output_dir,force=true,recursive=true)\n",
    "mkdir(output_dir);"
   ]
  },
  {
   "cell_type": "code",
   "execution_count": 7,
   "metadata": {},
   "outputs": [
    {
     "name": "stdout",
     "output_type": "stream",
     "text": [
      "[\u001b[32m\u001b[1m INFO  \u001b[21m\u001b[0m] Composition set by dict \n",
      "[\u001b[32m\u001b[1m INFO  \u001b[21m\u001b[0m] Found FastChem executable \n",
      "[\u001b[32m\u001b[1m INFO  \u001b[21m\u001b[0m] Inserting stellar spectrum and Rayleigh coefficients \n",
      "[\u001b[32m\u001b[1m INFO  \u001b[21m\u001b[0m] Allocated atmosphere with composition: \n",
      "[\u001b[32m\u001b[1m INFO  \u001b[21m\u001b[0m]       1 H2      7.44e-01  \n",
      "[\u001b[32m\u001b[1m INFO  \u001b[21m\u001b[0m]       2 H2S     2.52e-01  \n",
      "[\u001b[32m\u001b[1m INFO  \u001b[21m\u001b[0m]       3 SO2     4.68e-03  \n",
      "[\u001b[32m\u001b[1m INFO  \u001b[21m\u001b[0m]       4 N2      5.90e-06  \n"
     ]
    },
    {
     "data": {
      "text/plain": [
       "true"
      ]
     },
     "metadata": {},
     "output_type": "display_data"
    }
   ],
   "source": [
    "# Setup atmosphere\n",
    "atmos = atmosphere.Atmos_t()\n",
    "atmosphere.setup!(atmos, ROOT_DIR, output_dir,\n",
    "                        spectral_file,\n",
    "                        instellation, s0_fact, albedo_b, zenith_degrees,\n",
    "                        tmp_surf,\n",
    "                        gravity, radius,\n",
    "                        nlev_centre, p_surf, p_top,\n",
    "                        mole_fractions, \"\",\n",
    "\n",
    "                        flux_int = 0.0,\n",
    "                        flag_gcontinuum=true,\n",
    "                        flag_rayleigh=true,\n",
    "                        thermo_functions=thermo,\n",
    "                        surface_material=albedo_data\n",
    "                    )\n",
    "atmosphere.allocate!(atmos, star_file)"
   ]
  },
  {
   "cell_type": "code",
   "execution_count": 8,
   "metadata": {},
   "outputs": [],
   "source": [
    "setpt.loglinear!(atmos, 700.0)"
   ]
  },
  {
   "cell_type": "code",
   "execution_count": 9,
   "metadata": {},
   "outputs": [
    {
     "name": "stdout",
     "output_type": "stream",
     "text": [
      "[\u001b[32m\u001b[1m INFO  \u001b[21m\u001b[0m]     sol_type = 1 \n",
      "[\u001b[32m\u001b[1m INFO  \u001b[21m\u001b[0m]     tmp_surf = 3100.00 K \n",
      "[\u001b[32m\u001b[1m INFO  \u001b[21m\u001b[0m]     step  resid_med    cost     flux_OLR    max(x)    max(|dx|)   flags \n",
      "[\u001b[32m\u001b[1m INFO  \u001b[21m\u001b[0m]        1  -1.06e+03  1.327e+04  7.358e+04  3.100e+03  4.000e+02  C2-Nr \n",
      "[\u001b[32m\u001b[1m INFO  \u001b[21m\u001b[0m]        2  -3.39e+02  4.231e+03  2.463e+04  3.100e+03  3.747e+02  C2-Nr \n",
      "[\u001b[32m\u001b[1m INFO  \u001b[21m\u001b[0m]        3  -8.37e+01  7.106e+05  8.437e+03  3.100e+03  3.604e+02  C2-Nr \n",
      "[\u001b[32m\u001b[1m INFO  \u001b[21m\u001b[0m]        4  -8.41e+00  4.994e+06  3.306e+03  3.100e+03  3.169e+02  C2-Nr \n",
      "[\u001b[32m\u001b[1m INFO  \u001b[21m\u001b[0m]        5  -1.48e-01  1.741e+07  1.732e+03  3.100e+03  2.445e+02  C2-Nr \n",
      "[\u001b[32m\u001b[1m INFO  \u001b[21m\u001b[0m]        6  -1.84e-06  1.514e+07  1.403e+03  3.100e+03  1.003e+02  C2-Nr \n",
      "[\u001b[32m\u001b[1m INFO  \u001b[21m\u001b[0m]        7  +1.01e-07  5.834e+06  1.347e+03  3.100e+03  3.808e+01  C2-Nr \n",
      "[\u001b[32m\u001b[1m INFO  \u001b[21m\u001b[0m]        8  +2.08e-07  1.093e+06  1.339e+03  3.100e+03  1.897e+01  C2-Nr \n"
     ]
    },
    {
     "ename": "InterruptException",
     "evalue": "InterruptException:",
     "output_type": "error",
     "traceback": [
      "InterruptException:\n",
      "\n",
      "Stacktrace:\n",
      " [1] getproperty(handle::AGNI.atmosphere.SOCRATES.StrOut, field::Symbol)\n",
      "   @ AGNI.atmosphere.SOCRATES ~/SOCRATES/julia/gen/StrOut_JL.jl:102\n",
      " [2] radtrans!(atmos::AGNI.atmosphere.Atmos_t, lw::Bool; calc_cf::Bool)\n",
      "   @ AGNI.energy ~/AGNI/src/energy.jl:210\n",
      " [3] radtrans!\n",
      "   @ ~/AGNI/src/energy.jl:35 [inlined]\n",
      " [4] calc_fluxes!(atmos::AGNI.atmosphere.Atmos_t, latent::Bool, convect::Bool, sens_heat::Bool, conduct::Bool; convect_sf::Float64, latent_sf::Float64, calc_cf::Bool)\n",
      "   @ AGNI.energy ~/AGNI/src/energy.jl:701\n",
      " [5] calc_fluxes!\n",
      "   @ ~/AGNI/src/energy.jl:666 [inlined]\n",
      " [6] (::AGNI.solver.var\"#_fev!#3\"{Int64, Bool, Bool, Bool, Bool, AGNI.atmosphere.Atmos_t, AGNI.solver.var\"#_set_tmps!#2\"{Int64, AGNI.atmosphere.Atmos_t}})(x::Vector{Float64}, resid::Vector{Float64})\n",
      "   @ AGNI.solver ~/AGNI/src/solver.jl:245\n",
      " [7] (::AGNI.solver.var\"#_calc_jac_res!#4\"{Float64, AGNI.solver.var\"#_fev!#3\"{Int64, Bool, Bool, Bool, Bool, AGNI.atmosphere.Atmos_t, AGNI.solver.var\"#_set_tmps!#2\"{Int64, AGNI.atmosphere.Atmos_t}}, Vector{Float64}, Vector{Float64}, Vector{Float64}, Vector{Float64}, Vector{Float64}})(x::Vector{Float64}, jacob::Matrix{Float64}, resid::Vector{Float64}, central::Bool, order::Int64, which::Vector{Bool})\n",
      "   @ AGNI.solver ~/AGNI/src/solver.jl:330\n",
      " [8] solve_energy!(atmos::AGNI.atmosphere.Atmos_t; sol_type::Int64, chem_type::Int64, convect::Bool, sens_heat::Bool, conduct::Bool, latent::Bool, dx_max::Float64, max_steps::Int64, max_runtime::Float64, fdw::Float64, fdc::Bool, fdo::Int64, method::Int64, ls_method::Int64, easy_start::Bool, ls_increase::Float64, detect_plateau::Bool, perturb_all::Bool, modplot::Int64, save_frames::Bool, modprint::Int64, plot_jacobian::Bool, conv_atol::Float64, conv_rtol::Float64)\n",
      "   @ AGNI.solver ~/AGNI/src/solver.jl:571\n",
      " [9] top-level scope\n",
      "   @ ~/AGNI/misc/jl_notebook_cell_df34fa98e69747e1a8f8a730347b8e2f_X11sdnNjb2RlLXJlbW90ZQ==.jl:1"
     ]
    }
   ],
   "source": [
    "solver_success = nl.solve_energy!(atmos,\n",
    "                                    sol_type=1,\n",
    "                                    sens_heat=true,\n",
    "                                    latent=true,\n",
    "                                    method=1,\n",
    "                                    dx_max=400.0,\n",
    "                                    ls_method=0,\n",
    "                                    save_frames=false, modplot=1,\n",
    "                                    conv_atol=0.5,\n",
    "                                    modprint=1\n",
    "                                    )\n",
    "println(\"Solver success? $solver_success\")\n",
    "atm_base = deepcopy(atmos);"
   ]
  },
  {
   "cell_type": "code",
   "execution_count": 10,
   "metadata": {},
   "outputs": [
    {
     "name": "stdout",
     "output_type": "stream",
     "text": [
      "Running model for 3 samples... \n",
      "    sample 1/3 \n",
      "    Ps=3.66e+09 Pa  ,  Ms=1.13e+25 kg  ,  Rs=8.09e+06 m  ,  Fi=0.100 Wm-2\n",
      "[\u001b[32m\u001b[1m INFO  \u001b[21m\u001b[0m]     sol_type = 3 \n",
      "[\u001b[32m\u001b[1m INFO  \u001b[21m\u001b[0m]     flux_int = 0.10 W m-2 \n",
      "[\u001b[32m\u001b[1m INFO  \u001b[21m\u001b[0m]     step  resid_med    cost     flux_OLR    max(x)    max(|dx|)   flags \n",
      "[\u001b[32m\u001b[1m INFO  \u001b[21m\u001b[0m]        1  -1.98e-02  4.928e+05  4.915e+04  1.301e+03  3.000e+02  C2-Nr \n",
      "[\u001b[32m\u001b[1m INFO  \u001b[21m\u001b[0m]        2  -3.40e+01  5.544e+07  2.124e+04  1.381e+03  3.000e+02  C2-Nr \n",
      "[\u001b[32m\u001b[1m INFO  \u001b[21m\u001b[0m]        3  -2.83e+00  8.061e+06  7.019e+03  1.398e+03  2.149e+02  C2-Nr \n",
      "[\u001b[32m\u001b[1m INFO  \u001b[21m\u001b[0m]        4  -1.33e-02  1.560e+06  2.739e+03  1.386e+03  1.456e+02  C2-Nr \n",
      "[\u001b[32m\u001b[1m INFO  \u001b[21m\u001b[0m]        5  -2.46e-03  2.894e+05  1.385e+03  1.383e+03  1.134e+02  C2-Nr \n",
      "[\u001b[32m\u001b[1m INFO  \u001b[21m\u001b[0m]        6  -1.54e-03  5.131e+04  1.028e+03  1.383e+03  9.094e+01  C2-Nr \n",
      "[\u001b[32m\u001b[1m INFO  \u001b[21m\u001b[0m]        7  -1.33e-05  6.438e+03  9.328e+02  1.383e+03  5.448e+01  C2-Nr \n",
      "[\u001b[32m\u001b[1m INFO  \u001b[21m\u001b[0m]        8  -1.64e-06  2.174e+03  9.113e+02  1.383e+03  2.573e+01  C2-Nr \n",
      "[\u001b[32m\u001b[1m INFO  \u001b[21m\u001b[0m]        9  -1.24e-07  1.065e+03  9.099e+02  1.383e+03  1.317e+01  C2-Nr \n",
      "[\u001b[32m\u001b[1m INFO  \u001b[21m\u001b[0m]       10  +3.78e-12  6.183e+02  9.099e+02  1.383e+03  2.948e+00  C2-Nr \n",
      "[\u001b[32m\u001b[1m INFO  \u001b[21m\u001b[0m]       11  +5.22e-11  3.966e+02  9.099e+02  1.383e+03  7.885e-02  C2-Nr \n",
      "[\u001b[32m\u001b[1m INFO  \u001b[21m\u001b[0m]       12  +8.73e-11  2.720e+02  9.099e+02  1.383e+03  5.445e-03  C2-Nr \n",
      "[\u001b[32m\u001b[1m INFO  \u001b[21m\u001b[0m]       13  +1.83e-11  1.957e+02  9.099e+02  1.383e+03  3.123e-03  C2-Nr \n",
      "[\u001b[32m\u001b[1m INFO  \u001b[21m\u001b[0m]       14  +1.83e-11  1.462e+02  9.099e+02  1.383e+03  3.315e-03  C2-Nr \n",
      "[\u001b[32m\u001b[1m INFO  \u001b[21m\u001b[0m]       15  -3.94e-12  1.124e+02  9.099e+02  1.383e+03  3.563e-03  C2-Nr \n",
      "[\u001b[32m\u001b[1m INFO  \u001b[21m\u001b[0m]       16  +1.91e-11  8.851e+01  9.099e+02  1.383e+03  3.884e-03  C2-Nr \n",
      "[\u001b[32m\u001b[1m INFO  \u001b[21m\u001b[0m]       17  -1.69e-11  7.107e+01  9.099e+02  1.383e+03  4.304e-03  C2-Nr \n",
      "[\u001b[32m\u001b[1m INFO  \u001b[21m\u001b[0m]       18  +7.92e-12  5.801e+01  9.099e+02  1.383e+03  4.877e-03  C2-Nr \n",
      "[\u001b[32m\u001b[1m INFO  \u001b[21m\u001b[0m]       19  -1.21e-11  4.803e+01  9.099e+02  1.383e+03  5.707e-03  C2-Nr \n",
      "[\u001b[32m\u001b[1m INFO  \u001b[21m\u001b[0m]       20  +1.83e-11  4.025e+01  9.099e+02  1.383e+03  7.035e-03  C2-Nr \n",
      "[\u001b[32m\u001b[1m INFO  \u001b[21m\u001b[0m]       21  -5.68e-14  3.409e+01  9.099e+02  1.383e+03  9.569e-03  C2-Nr \n",
      "[\u001b[32m\u001b[1m INFO  \u001b[21m\u001b[0m]       22  -2.55e-11  2.912e+01  9.099e+02  1.383e+03  1.673e-02  C2-Nr \n",
      "[\u001b[32m\u001b[1m INFO  \u001b[21m\u001b[0m]       23  +8.78e-11  2.443e+01  9.099e+02  1.382e+03  1.744e-01  C2-Nr \n",
      "[\u001b[32m\u001b[1m INFO  \u001b[21m\u001b[0m]       24  -2.31e-09  1.279e+00  9.099e+02  1.350e+03  3.190e+01  C2-Nr \n",
      "[\u001b[32m\u001b[1m INFO  \u001b[21m\u001b[0m]       25  -2.61e-10  1.275e+00  9.099e+02  1.351e+03  1.616e+00  C2-Nr \n",
      "[\u001b[32m\u001b[1m INFO  \u001b[21m\u001b[0m]       26  +4.13e-11  1.275e+00  9.099e+02  1.351e+03  8.559e-02  C2-Nr \n",
      "[\u001b[32m\u001b[1m INFO  \u001b[21m\u001b[0m]       27  -9.48e-12  1.275e+00  9.099e+02  1.351e+03  1.552e-05  C2-Nr \n",
      "[\u001b[32m\u001b[1m INFO  \u001b[21m\u001b[0m]       28  +1.35e-11  1.275e+00  9.099e+02  1.351e+03  5.623e-07  C2-Nr \n",
      "[\u001b[32m\u001b[1m INFO  \u001b[21m\u001b[0m]       29  -1.08e-11  1.275e+00  9.099e+02  1.351e+03  5.509e-07  C2-Nr \n"
     ]
    },
    {
     "ename": "InterruptException",
     "evalue": "InterruptException:",
     "output_type": "error",
     "traceback": [
      "InterruptException:\n",
      "\n",
      "Stacktrace:\n",
      "  [1] open(fname::String; lock::Bool, read::Nothing, write::Nothing, create::Nothing, truncate::Bool, append::Nothing)\n",
      "    @ Base ./iostream.jl:293\n",
      "  [2] open\n",
      "    @ ./iostream.jl:275 [inlined]\n",
      "  [3] open(fname::String, mode::String; lock::Bool)\n",
      "    @ Base ./iostream.jl:356\n",
      "  [4] open(fname::String, mode::String)\n",
      "    @ Base ./iostream.jl:355\n",
      "  [5] open(::Plots.var\"#346#347\"{Plots.Plot{Plots.GRBackend}}, ::String, ::Vararg{String}; kwargs::@Kwargs{})\n",
      "    @ Base ./io.jl:394\n",
      "  [6] open\n",
      "    @ ./io.jl:393 [inlined]\n",
      "  [7] png(plt::Plots.Plot{Plots.GRBackend}, fn::String)\n",
      "    @ Plots ~/.julia/packages/Plots/kLeqV/src/output.jl:6\n",
      "  [8] savefig(plt::Plots.Plot{Plots.GRBackend}, fn::String)\n",
      "    @ Plots ~/.julia/packages/Plots/kLeqV/src/output.jl:149\n",
      "  [9] combined(plt_pt::Plots.Plot{Plots.GRBackend}, plt_fl::Plots.Plot{Plots.GRBackend}, plt_mr::Plots.Plot{Plots.GRBackend}, info::String, fname::String; dpi::Int64, size_x::Int64, size_y::Int64)\n",
      "    @ AGNI.plotting ~/AGNI/src/plotting.jl:522\n",
      " [10] combined(plt_pt::Plots.Plot{Plots.GRBackend}, plt_fl::Plots.Plot{Plots.GRBackend}, plt_mr::Plots.Plot{Plots.GRBackend}, info::String, fname::String)\n",
      "    @ AGNI.plotting ~/AGNI/src/plotting.jl:512\n",
      " [11] (::AGNI.solver.var\"#plot_step#6\"{Int64, Bool, Bool, Bool, AGNI.atmosphere.Atmos_t, String})()\n",
      "    @ AGNI.solver ~/AGNI/src/solver.jl:386\n",
      " [12] solve_energy!(atmos::AGNI.atmosphere.Atmos_t; sol_type::Int64, chem_type::Int64, convect::Bool, sens_heat::Bool, conduct::Bool, latent::Bool, dx_max::Float64, max_steps::Int64, max_runtime::Float64, fdw::Float64, fdc::Bool, fdo::Int64, method::Int64, ls_method::Int64, easy_start::Bool, ls_increase::Float64, detect_plateau::Bool, perturb_all::Bool, modplot::Int64, save_frames::Bool, modprint::Int64, plot_jacobian::Bool, conv_atol::Float64, conv_rtol::Float64)\n",
      "    @ AGNI.solver ~/AGNI/src/solver.jl:729\n",
      " [13] solve_energy!\n",
      "    @ ~/AGNI/src/solver.jl:104 [inlined]\n",
      " [14] top-level scope\n",
      "    @ ~/AGNI/misc/jl_notebook_cell_df34fa98e69747e1a8f8a730347b8e2f_X12sdnNjb2RlLXJlbW90ZQ==.jl:27"
     ]
    }
   ],
   "source": [
    "atm_arr = atmosphere.Atmos_t[]\n",
    "\n",
    "@printf(\"Running model for %d samples... \\n\", nsamps)\n",
    "\n",
    "# atmos = deepcopy(atm_base)\n",
    "\n",
    "setpt.isothermal!(atmos, 1000.0)\n",
    "for i in 1:nsamps\n",
    "    @printf(\"    sample %d/%d \\n\",i,nsamps)\n",
    "\n",
    "    # update planet structure\n",
    "    row = structure[i,:]\n",
    "    Ps = row[1] * 1e3 * 1e5 # convert kbar -> bar -> Pa\n",
    "    Ms = row[2] * M_earth\n",
    "    Rs = row[3] * R_earth\n",
    "    Fi = row[4]\n",
    "\n",
    "    atmos.rp = Rs\n",
    "    atmos.p_boa = Ps\n",
    "    atmos.grav_surf = 6.67e-11 * Ms / Rs^2\n",
    "    atmos.flux_int = Fi\n",
    "    @printf(\"    Ps=%.2e Pa  ,  Ms=%.2e kg  ,  Rs=%.2e m  ,  Fi=%.3f Wm-2\\n\",Ps,Ms,Rs,Fi)\n",
    "\n",
    "    atmosphere.generate_pgrid!(atmos)\n",
    "\n",
    "    # Run model\n",
    "    solver_success = nl.solve_energy!(atmos,\n",
    "                                    sol_type=3,\n",
    "                                    method=1,\n",
    "                                    dx_max=300.0,\n",
    "                                    ls_method=0,\n",
    "                                    save_frames=false, modplot=1,\n",
    "                                    modprint=1, perturb_all=false,\n",
    "                                    conv_atol=1.0e-2\n",
    "                                    )\n",
    "\n",
    "    # Store result\n",
    "    push!(atm_arr, deepcopy(atmos))\n",
    "    @printf(\"--------------------------------- \\n\")\n",
    "end\n",
    "println(\"Done!\")"
   ]
  },
  {
   "cell_type": "code",
   "execution_count": 11,
   "metadata": {},
   "outputs": [
    {
     "name": "stdout",
     "output_type": "stream",
     "text": [
      "Done! \n"
     ]
    }
   ],
   "source": [
    "for (i, atm) in enumerate(atm_arr)\n",
    "    @printf(\"Writing index %d \\n\",i)\n",
    "    dump.write_ncdf(atm, joinpath(atm.OUT_DIR, \"$i.nc\"))\n",
    "end\n",
    "@printf(\"Done! \\n\")"
   ]
  },
  {
   "cell_type": "code",
   "execution_count": 12,
   "metadata": {},
   "outputs": [
    {
     "data": {
      "text/plain": [
       "0.8"
      ]
     },
     "metadata": {},
     "output_type": "display_data"
    }
   ],
   "source": [
    "fs=12\n",
    "lw=1.8\n",
    "al=0.8"
   ]
  },
  {
   "cell_type": "code",
   "execution_count": 13,
   "metadata": {},
   "outputs": [
    {
     "ename": "BoundsError",
     "evalue": "BoundsError: attempt to access 0-element Vector{AGNI.atmosphere.Atmos_t} at index [1]",
     "output_type": "error",
     "traceback": [
      "BoundsError: attempt to access 0-element Vector{AGNI.atmosphere.Atmos_t} at index [1]\n",
      "\n",
      "Stacktrace:\n",
      " [1] getindex(A::Vector{AGNI.atmosphere.Atmos_t}, i1::Int64)\n",
      "   @ Base ./essentials.jl:13\n",
      " [2] top-level scope\n",
      "   @ ~/AGNI/misc/jl_notebook_cell_df34fa98e69747e1a8f8a730347b8e2f_X15sdnNjb2RlLXJlbW90ZQ==.jl:5"
     ]
    }
   ],
   "source": [
    "# find highest psurf\n",
    "psurf_max::Float64 = 1e3\n",
    "psurf_idx::Int = 1\n",
    "for i in 1:nsamps\n",
    "    this_atm = atm_arr[i]\n",
    "    if atm_arr[i].pl[end] > psurf_max\n",
    "        psurf_max = atm_arr[i].pl[end]\n",
    "        psurf_idx = i\n",
    "    end\n",
    "end\n",
    "\n",
    "# y ticks\n",
    "arr_P = atm_arr[psurf_idx].pl .* 1.0e-5 # Convert Pa to bar\n",
    "ylims  = (arr_P[1]/2, arr_P[end]*2)\n",
    "yticks = 10.0 .^ round.(Int,range( log10(ylims[1]), stop=log10(ylims[2]), step=1))\n",
    "\n",
    "plt = plot(framestyle=:box, size=(750,500), dpi=300,\n",
    "                leg=:outertopright, legcolumn=-1,\n",
    "                tickfontsize=fs, guidefontsize=fs, legendfontsize=fs,\n",
    "                legendtitlefontsize=fs,\n",
    "                leg_title=\"Index\",\n",
    "                left_margin=4Plots.mm, bottom_margin=4Plots.mm)\n",
    "\n",
    "\n",
    "# plot the profiles\n",
    "for i in 1:nsamps\n",
    "    this_atm = atm_arr[i]\n",
    "    plot!(plt, this_atm.tmpl, this_atm.pl* 1.0e-5, linewidth=lw, label=@sprintf(\"%d\",i), linealpha=al)\n",
    "end\n",
    "\n",
    "# decorate\n",
    "xlabel!(plt, \"Temperature[K]\")\n",
    "xaxis!(plt, minorgrid=true)\n",
    "ylabel!(plt, \"Pressure [bar]\")\n",
    "yflip!(plt)\n",
    "yaxis!(plt, yscale=:log10, ylims=ylims, yticks=yticks)\n",
    "display(plt)\n",
    "savefig(plt,joinpath(output_dir,\"profiles.pdf\"))"
   ]
  },
  {
   "cell_type": "code",
   "execution_count": 14,
   "metadata": {},
   "outputs": [
    {
     "ename": "BoundsError",
     "evalue": "BoundsError: attempt to access 0-element Vector{AGNI.atmosphere.Atmos_t} at index [1]",
     "output_type": "error",
     "traceback": [
      "BoundsError: attempt to access 0-element Vector{AGNI.atmosphere.Atmos_t} at index [1]\n",
      "\n",
      "Stacktrace:\n",
      " [1] getindex(A::Vector{AGNI.atmosphere.Atmos_t}, i1::Int64)\n",
      "   @ Base ./essentials.jl:13\n",
      " [2] top-level scope\n",
      "   @ ~/AGNI/misc/jl_notebook_cell_df34fa98e69747e1a8f8a730347b8e2f_X16sdnNjb2RlLXJlbW90ZQ==.jl:14"
     ]
    }
   ],
   "source": [
    "arr_P = atmos.pl .* 1.0e-5 # Convert Pa to bar\n",
    "ylims  = (arr_P[1], arr_P[end])\n",
    "yticks = 10.0 .^ round.(Int,range( log10(ylims[1]), stop=log10(ylims[2]), step=1))\n",
    "\n",
    "plt = plot(framestyle=:box, size=(750,500), dpi=300,\n",
    "                leg=:outertopright, legcolumn=-1,\n",
    "                tickfontsize=fs, guidefontsize=fs, legendfontsize=fs,\n",
    "                legendtitlefontsize=fs,\n",
    "                leg_title=\"Index\",\n",
    "                left_margin=4Plots.mm, bottom_margin=4Plots.mm)\n",
    "\n",
    "\n",
    "for i in 1:nsamps\n",
    "    this_atm = atm_arr[i]\n",
    "    plot!(plt, this_atm.flux_cdry[1:end-2], this_atm.pl[1:end-2]* 1.0e-5,  linewidth=lw, label=@sprintf(\"%d\",i), linealpha=al)\n",
    "end\n",
    "\n",
    "xlabel!(plt, \"Convective flux [W m-2]\")\n",
    "xaxis!(plt, minorgrid=true)\n",
    "ylabel!(plt, \"Pressure [bar]\")\n",
    "yflip!(plt)\n",
    "yaxis!(plt, yscale=:log10, ylims=ylims, yticks=yticks)\n",
    "display(plt)\n",
    "savefig(plt,joinpath(output_dir,\"convection.pdf\"))"
   ]
  },
  {
   "cell_type": "code",
   "execution_count": 15,
   "metadata": {},
   "outputs": [
    {
     "ename": "BoundsError",
     "evalue": "BoundsError: attempt to access 0-element Vector{AGNI.atmosphere.Atmos_t} at index [1]",
     "output_type": "error",
     "traceback": [
      "BoundsError: attempt to access 0-element Vector{AGNI.atmosphere.Atmos_t} at index [1]\n",
      "\n",
      "Stacktrace:\n",
      " [1] getindex(A::Vector{AGNI.atmosphere.Atmos_t}, i1::Int64)\n",
      "   @ Base ./essentials.jl:13\n",
      " [2] top-level scope\n",
      "   @ ~/AGNI/misc/jl_notebook_cell_df34fa98e69747e1a8f8a730347b8e2f_X20sdnNjb2RlLXJlbW90ZQ==.jl:14"
     ]
    }
   ],
   "source": [
    "arr_P = atmos.pl .* 1.0e-5 # Convert Pa to bar\n",
    "ylims  = (arr_P[1], arr_P[end])\n",
    "yticks = 10.0 .^ round.(Int,range( log10(ylims[1]), stop=log10(ylims[2]), step=1))\n",
    "\n",
    "plt = plot(framestyle=:box, size=(750,500), dpi=300,\n",
    "                leg=:outertopright, legcolumn=-1,\n",
    "                tickfontsize=fs, guidefontsize=fs, legendfontsize=fs,\n",
    "                legendtitlefontsize=fs,\n",
    "                leg_title=\"Index\",\n",
    "                left_margin=4Plots.mm, bottom_margin=4Plots.mm)\n",
    "\n",
    "\n",
    "for i in 1:nsamps\n",
    "    this_atm = atm_arr[i]\n",
    "    plot!(plt, this_atm.flux_d_sw, this_atm.pl*1.0e-5,  linewidth=lw, label=@sprintf(\"%d\",i), linealpha=al)\n",
    "end\n",
    "\n",
    "xlabel!(plt, \"Stellar flux [W m-2]\")\n",
    "xaxis!(plt, minorgrid=true)\n",
    "ylabel!(plt, \"Pressure [bar]\")\n",
    "yflip!(plt)\n",
    "yaxis!(plt, yscale=:log10, ylims=ylims, yticks=yticks)\n",
    "display(plt)\n",
    "savefig(plt,joinpath(output_dir,\"fl_D_SW.pdf\"))"
   ]
  },
  {
   "cell_type": "code",
   "execution_count": 16,
   "metadata": {},
   "outputs": [
    {
     "ename": "BoundsError",
     "evalue": "BoundsError: attempt to access 0-element Vector{AGNI.atmosphere.Atmos_t} at index [1]",
     "output_type": "error",
     "traceback": [
      "BoundsError: attempt to access 0-element Vector{AGNI.atmosphere.Atmos_t} at index [1]\n",
      "\n",
      "Stacktrace:\n",
      " [1] getindex(A::Vector{AGNI.atmosphere.Atmos_t}, i1::Int64)\n",
      "   @ Base ./essentials.jl:13\n",
      " [2] top-level scope\n",
      "   @ ~/AGNI/misc/jl_notebook_cell_df34fa98e69747e1a8f8a730347b8e2f_X21sdnNjb2RlLXJlbW90ZQ==.jl:9"
     ]
    }
   ],
   "source": [
    "plt = plot(framestyle=:box, size=(900,400), dpi=300,\n",
    "                leg=:outertopright, legcolumn=-1,\n",
    "                tickfontsize=fs, guidefontsize=fs, legendfontsize=fs,\n",
    "                legendtitlefontsize=fs,\n",
    "                leg_title=\"Index\",\n",
    "                left_margin=4Plots.mm, bottom_margin=4Plots.mm)\n",
    "\n",
    "for i in 1:nsamps\n",
    "    this_atm = atm_arr[i]\n",
    "\n",
    "\n",
    "    # band widths\n",
    "    wd = atmos.bands_wid * 1e9 # convert to nm\n",
    "\n",
    "    # band centres\n",
    "    xe = atmos.bands_cen * 1e9 # convert to nm\n",
    "\n",
    "    # TOA upward spectral flux [erg s-1 cm-2 nm-1]\n",
    "    yt = (this_atm.band_u_sw[1, :] .+  this_atm.band_u_lw[1, :]) .* 1000.0 ./ wd\n",
    "\n",
    "    plot!(plt, xe, yt,  linewidth=lw, label=@sprintf(\"%d\",i), linealpha=al)\n",
    "end\n",
    "\n",
    "xlabel!(plt, \"Wavelength [nm]\")\n",
    "xaxis!(plt, xscale=:lo010, minorgrid=true, xlims=(300.0, 6.0e3))\n",
    "\n",
    "ylabel!(plt, \"Flux density [W m-2 nm-1]\")\n",
    "yaxis!(plt, yscale=:log10, ylims=(0.1, Inf))\n",
    "\n",
    "display(plt)\n",
    "savefig(plt,joinpath(output_dir,\"emission.pdf\"))"
   ]
  },
  {
   "cell_type": "code",
   "execution_count": 17,
   "metadata": {},
   "outputs": [],
   "source": []
  }
 ],
 "metadata": {
  "kernelspec": {
   "display_name": "Julia 1.10.5",
   "language": "julia",
   "name": "julia-1.10"
  },
  "language_info": {
   "file_extension": ".jl",
   "mimetype": "application/julia",
   "name": "julia",
   "version": "1.10.5"
  }
 },
 "nbformat": 4,
 "nbformat_minor": 2
}
