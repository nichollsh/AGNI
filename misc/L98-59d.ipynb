{
 "cells": [
  {
   "cell_type": "code",
   "execution_count": 1,
   "metadata": {},
   "outputs": [],
   "source": [
    "# Import system packages\n",
    "using Printf\n",
    "using DelimitedFiles\n",
    "using Plots\n",
    "using LaTeXStrings"
   ]
  },
  {
   "cell_type": "code",
   "execution_count": 27,
   "metadata": {},
   "outputs": [
    {
     "data": {
      "text/plain": [
       "9"
      ]
     },
     "metadata": {},
     "output_type": "display_data"
    }
   ],
   "source": [
    "#            Psurf/kbar         Msurf/Me            Rsurf/Re            Fint/ Wm-2\n",
    "structure = [55.7995885204057   1.87357329869088    1.26545448273556    0.1\n",
    "             94.9872390766408   1.85080181213859    1.18895003698611    0.1\n",
    "             235.441189355888   1.81201269545852    1.03160242765241    0.1\n",
    "             44.0805809467927   1.8874745283649     1.26809523799334    0.1\n",
    "             81.3022504424403   1.86358543333935    1.19126026978588    0.1\n",
    "             215.825183545351   1.82258865495902    1.03329680311623    0.1\n",
    "             36.606020371988    1.89635484051907    1.26977486802543    0.1\n",
    "             72.7858858655158   1.87155246958974    1.19269414869405    0.1\n",
    "             203.510277091369   1.82923648889318    1.03435826758376    0.1    ]\n",
    "nsamps = size(structure)[1]"
   ]
  },
  {
   "cell_type": "code",
   "execution_count": 3,
   "metadata": {},
   "outputs": [],
   "source": [
    "# Import AGNI\n",
    "ROOT_DIR = abspath(joinpath(pwd(),\"../\"))\n",
    "using AGNI\n",
    "import AGNI.atmosphere as atmosphere\n",
    "import AGNI.solver as nl\n",
    "import AGNI.setpt as setpt\n",
    "import AGNI.dump as dump\n",
    "import AGNI.plotting as plotting\n",
    "\n",
    "# Disable logging from AGNI module\n",
    "AGNI.setup_logging(\"\",1)"
   ]
  },
  {
   "cell_type": "code",
   "execution_count": 4,
   "metadata": {},
   "outputs": [
    {
     "data": {
      "text/plain": [
       "5.972e24"
      ]
     },
     "metadata": {},
     "output_type": "display_data"
    }
   ],
   "source": [
    "R_earth = 6.371e6\n",
    "M_earth = 5.972e24"
   ]
  },
  {
   "cell_type": "code",
   "execution_count": 5,
   "metadata": {},
   "outputs": [
    {
     "data": {
      "text/plain": [
       "\"/home/n/nichollsh/AGNI/out/\""
      ]
     },
     "metadata": {},
     "output_type": "display_data"
    }
   ],
   "source": [
    "# Configuration options\n",
    "instellation    = 81690.0\n",
    "mass            = 1.8*M_earth\n",
    "radius          = 1.2*R_earth\n",
    "gravity         = 6.67e-11 * mass / radius^2\n",
    "p_surf          = 2e4\n",
    "\n",
    "s0_fact         = 0.25\n",
    "zenith_degrees  = 54.74\n",
    "albedo_b        = 0.0\n",
    "nlev_centre     = 50\n",
    "p_top           = 1e-5      # bar\n",
    "mole_fractions  = Dict([\n",
    "                        (\"H2S\", 0.23988329190194904),\n",
    "                        (\"SO2\", 0.0044668359215096305),\n",
    "                        (\"N2\" , 5.623413251903491e-6),\n",
    "                        (\"H2\" , 0.7093907341517219)\n",
    "                    ])\n",
    "tmp_surf        = 3000.0\n",
    "thermo          = true\n",
    "\n",
    "albedo_data   = joinpath(ROOT_DIR,\"res/surface_albedos/lunar_marebasalt.dat\")\n",
    "spectral_file = joinpath(ROOT_DIR,\"res/spectral_files/Honeyside/256/Honeyside.sf\")\n",
    "star_file     = joinpath(ROOT_DIR,\"res/stellar_spectra/l-98-59.txt\")\n",
    "output_dir    = joinpath(ROOT_DIR,\"out/\")"
   ]
  },
  {
   "cell_type": "code",
   "execution_count": 6,
   "metadata": {},
   "outputs": [],
   "source": [
    "# Create output directory\n",
    "rm(output_dir,force=true,recursive=true)\n",
    "mkdir(output_dir);"
   ]
  },
  {
   "cell_type": "code",
   "execution_count": 7,
   "metadata": {},
   "outputs": [
    {
     "name": "stdout",
     "output_type": "stream",
     "text": [
      "[\u001b[32m\u001b[1m INFO  \u001b[21m\u001b[0m] Composition set by dict \n",
      "[\u001b[32m\u001b[1m INFO  \u001b[21m\u001b[0m] Found FastChem executable \n",
      "[\u001b[32m\u001b[1m INFO  \u001b[21m\u001b[0m] Inserting stellar spectrum and Rayleigh coefficients \n",
      "[\u001b[32m\u001b[1m INFO  \u001b[21m\u001b[0m] Allocated atmosphere with composition: \n",
      "[\u001b[32m\u001b[1m INFO  \u001b[21m\u001b[0m]       1 H2      7.44e-01  \n",
      "[\u001b[32m\u001b[1m INFO  \u001b[21m\u001b[0m]       2 H2S     2.52e-01  \n",
      "[\u001b[32m\u001b[1m INFO  \u001b[21m\u001b[0m]       3 SO2     4.68e-03  \n",
      "[\u001b[32m\u001b[1m INFO  \u001b[21m\u001b[0m]       4 N2      5.90e-06  \n"
     ]
    },
    {
     "data": {
      "text/plain": [
       "true"
      ]
     },
     "metadata": {},
     "output_type": "display_data"
    }
   ],
   "source": [
    "# Setup atmosphere\n",
    "atmos = atmosphere.Atmos_t()\n",
    "atmosphere.setup!(atmos, ROOT_DIR, output_dir,\n",
    "                        spectral_file,\n",
    "                        instellation, s0_fact, albedo_b, zenith_degrees,\n",
    "                        tmp_surf,\n",
    "                        gravity, radius,\n",
    "                        nlev_centre, p_surf, p_top,\n",
    "                        mole_fractions, \"\",\n",
    "\n",
    "                        flux_int = 0.0,\n",
    "                        flag_gcontinuum=true,\n",
    "                        flag_rayleigh=true,\n",
    "                        thermo_functions=thermo,\n",
    "                        surface_material=albedo_data\n",
    "                    )\n",
    "atmosphere.allocate!(atmos, star_file)"
   ]
  },
  {
   "cell_type": "code",
   "execution_count": 8,
   "metadata": {},
   "outputs": [],
   "source": [
    "setpt.loglinear!(atmos, 700.0)"
   ]
  },
  {
   "cell_type": "code",
   "execution_count": 9,
   "metadata": {},
   "outputs": [
    {
     "name": "stdout",
     "output_type": "stream",
     "text": [
      "[\u001b[32m\u001b[1m INFO  \u001b[21m\u001b[0m]     sol_type = 1 \n",
      "[\u001b[32m\u001b[1m INFO  \u001b[21m\u001b[0m]     tmp_surf = 3000.00 K \n",
      "[\u001b[32m\u001b[1m INFO  \u001b[21m\u001b[0m]     step  resid_med    cost     flux_OLR    max(x)    max(|dx|)   flags \n",
      "[\u001b[32m\u001b[1m INFO  \u001b[21m\u001b[0m]        1  -1.21e+03  1.250e+04  7.778e+04  3.000e+03  3.989e+02  C2-Nr-Ls \n",
      "[\u001b[32m\u001b[1m INFO  \u001b[21m\u001b[0m]        2  -3.37e+02  3.607e+03  3.128e+04  3.000e+03  3.093e+02  C2-Nr \n",
      "[\u001b[32m\u001b[1m INFO  \u001b[21m\u001b[0m]        3  -6.25e+01  9.809e+02  1.658e+04  3.000e+03  2.077e+02  C2-Nr \n",
      "[\u001b[32m\u001b[1m INFO  \u001b[21m\u001b[0m]        4  -2.90e-03  2.573e+02  1.293e+04  3.000e+03  8.449e+01  C2-Nr \n",
      "[\u001b[32m\u001b[1m INFO  \u001b[21m\u001b[0m]        5  +1.54e-02  2.420e+01  1.246e+04  3.000e+03  1.979e+01  C2-Nr \n",
      "[\u001b[32m\u001b[1m INFO  \u001b[21m\u001b[0m]        6  +5.26e-04  3.068e-01  1.245e+04  3.000e+03  2.270e+00  C2-Nr \n",
      "[\u001b[32m\u001b[1m INFO  \u001b[21m\u001b[0m]     success in 6 steps \n",
      "[\u001b[32m\u001b[1m INFO  \u001b[21m\u001b[0m]     outgoing LW flux   = +1.24e+04 W m-2      \n",
      "[\u001b[32m\u001b[1m INFO  \u001b[21m\u001b[0m]     total flux at TOA  = +9.88e+02 W m-2      \n",
      "[\u001b[32m\u001b[1m INFO  \u001b[21m\u001b[0m]     total flux at BOA  = +9.88e+02 W m-2      \n",
      "[\u001b[32m\u001b[1m INFO  \u001b[21m\u001b[0m]     column max loss    = +2.56e-01 W m-2  (+2.59e-02 %)  \n",
      "[\u001b[32m\u001b[1m INFO  \u001b[21m\u001b[0m]     final cost value   = +3.07e-01 W m-2      \n",
      "[\u001b[32m\u001b[1m INFO  \u001b[21m\u001b[0m]     surf temperature   = 3000.000  K         \n",
      "Solver success? true\n"
     ]
    }
   ],
   "source": [
    "solver_success = nl.solve_energy!(atmos,\n",
    "                                    sol_type=1,\n",
    "                                    sens_heat=true,\n",
    "                                    latent=true,\n",
    "                                    method=1,\n",
    "                                    dx_max=600.0,\n",
    "                                    ls_method=1 ,\n",
    "                                    save_frames=false, modplot=1,\n",
    "                                    conv_atol=0.5,\n",
    "                                    modprint=1\n",
    "                                    )\n",
    "println(\"Solver success? $solver_success\")\n",
    "atm_base = deepcopy(atmos);"
   ]
  },
  {
   "cell_type": "code",
   "execution_count": 28,
   "metadata": {},
   "outputs": [
    {
     "name": "stdout",
     "output_type": "stream",
     "text": [
      "Running model for 9 samples... \n",
      "    sample 1/9 \n",
      "    Ps=5.6e+09 Pa  ,  Ms=1.1e+25 kg  ,  Rs=8.1e+06 m  ,  Fi=1.0e-01 \n",
      "[\u001b[32m\u001b[1m INFO  \u001b[21m\u001b[0m]     sol_type = 3 \n",
      "[\u001b[32m\u001b[1m INFO  \u001b[21m\u001b[0m]     flux_int = 0.10 W m-2 \n",
      "[\u001b[32m\u001b[1m INFO  \u001b[21m\u001b[0m]     step  resid_med    cost     flux_OLR    max(x)    max(|dx|)   flags \n",
      "[\u001b[32m\u001b[1m INFO  \u001b[21m\u001b[0m]        1  +1.34e-01  1.298e+02  1.144e+04  2.631e+03  3.703e+02  C2-Nr-Ls \n",
      "[\u001b[32m\u001b[1m INFO  \u001b[21m\u001b[0m]        2  +1.54e-02  4.129e+01  1.146e+04  2.305e+03  3.258e+02  C2-Nr \n",
      "[\u001b[32m\u001b[1m INFO  \u001b[21m\u001b[0m]        3  +1.03e-03  1.745e+01  1.146e+04  2.053e+03  2.516e+02  C2-Nr \n",
      "[\u001b[32m\u001b[1m INFO  \u001b[21m\u001b[0m]        4  +1.61e-03  4.908e+00  1.146e+04  1.848e+03  2.065e+02  C2-Nr \n",
      "[\u001b[32m\u001b[1m INFO  \u001b[21m\u001b[0m]        5  +1.22e-05  1.650e+00  1.146e+04  1.680e+03  1.677e+02  C2-Nr \n",
      "[\u001b[32m\u001b[1m INFO  \u001b[21m\u001b[0m]        6  +9.17e-06  1.511e+00  1.146e+04  1.670e+03  1.264e+01  C2-Nr-Ls \n",
      "[\u001b[32m\u001b[1m INFO  \u001b[21m\u001b[0m]        7  +9.16e-06  1.511e+00  1.146e+04  1.670e+03  4.090e-03  C2-Nr-Ls \n",
      "[\u001b[32m\u001b[1m INFO  \u001b[21m\u001b[0m]        8  +9.16e-06  1.511e+00  1.146e+04  1.670e+03  4.089e-03  C2-Nr-Ls \n",
      "[\u001b[32m\u001b[1m INFO  \u001b[21m\u001b[0m]        9  +9.17e-06  1.511e+00  1.146e+04  1.670e+03  4.088e-03  C2-Nr-Ls \n",
      "[\u001b[32m\u001b[1m INFO  \u001b[21m\u001b[0m]       10  +9.17e-06  1.511e+00  1.146e+04  1.669e+03  4.087e-03  C2-Nr-Ls \n",
      "[\u001b[32m\u001b[1m INFO  \u001b[21m\u001b[0m]       11  +9.17e-06  1.511e+00  1.146e+04  1.669e+03  4.087e-03  C2-Nr-Ls \n",
      "[\u001b[32m\u001b[1m INFO  \u001b[21m\u001b[0m]       12  +6.32e-04  2.835e+06  1.146e+04  1.460e+03  2.853e+02  C2-Nr-X \n",
      "[\u001b[32m\u001b[1m INFO  \u001b[21m\u001b[0m]       13  +4.02e-04  7.665e+05  1.146e+04  1.756e+03  3.260e+02  C2-Nr \n",
      "[\u001b[32m\u001b[1m INFO  \u001b[21m\u001b[0m]       14  +5.98e-05  1.320e+05  1.146e+04  1.614e+03  1.416e+02  C2-Nr \n",
      "[\u001b[32m\u001b[1m INFO  \u001b[21m\u001b[0m]       15  +2.82e-05  2.422e+04  1.146e+04  1.557e+03  5.714e+01  C2-Nr \n",
      "[\u001b[32m\u001b[1m INFO  \u001b[21m\u001b[0m]       16  +1.97e-06  4.598e+03  1.146e+04  1.541e+03  1.628e+01  C2-Nr \n",
      "[\u001b[32m\u001b[1m INFO  \u001b[21m\u001b[0m]       17  +6.03e-08  8.845e+02  1.146e+04  1.539e+03  1.440e+00  C2-Nr \n",
      "[\u001b[32m\u001b[1m INFO  \u001b[21m\u001b[0m]       18  +1.83e-09  1.699e+02  1.146e+04  1.539e+03  3.206e-01  C2-Nr \n",
      "[\u001b[32m\u001b[1m INFO  \u001b[21m\u001b[0m]       19  +1.36e-10  3.155e+01  1.146e+04  1.539e+03  8.753e-02  C2-Nr \n",
      "[\u001b[32m\u001b[1m INFO  \u001b[21m\u001b[0m]       20  +7.64e-10  4.579e+00  1.146e+04  1.539e+03  3.312e-02  C2-Nr \n",
      "[\u001b[32m\u001b[1m INFO  \u001b[21m\u001b[0m]       21  +1.31e-10  2.839e+00  1.146e+04  1.539e+03  7.791e-03  C2-Nr \n",
      "[\u001b[32m\u001b[1m INFO  \u001b[21m\u001b[0m]       22  +3.36e-11  2.839e+00  1.146e+04  1.539e+03  5.560e-03  C2-Nr \n",
      "[\u001b[32m\u001b[1m INFO  \u001b[21m\u001b[0m]       23  +1.43e-10  2.839e+00  1.146e+04  1.539e+03  6.199e-03  C2-Nr \n",
      "[\u001b[32m\u001b[1m INFO  \u001b[21m\u001b[0m]       24  +1.66e-11  2.838e+00  1.146e+04  1.539e+03  7.069e-03  C2-Nr \n",
      "[\u001b[32m\u001b[1m INFO  \u001b[21m\u001b[0m]       25  +5.78e-11  2.838e+00  1.146e+04  1.539e+03  8.341e-03  C2-Nr \n",
      "[\u001b[32m\u001b[1m INFO  \u001b[21m\u001b[0m]       26  +5.85e-11  2.837e+00  1.146e+04  1.539e+03  1.042e-02  C2-Nr \n",
      "[\u001b[32m\u001b[1m INFO  \u001b[21m\u001b[0m]       27  +9.96e-11  2.834e+00  1.146e+04  1.539e+03  4.361e-02  C2-Nr-X \n",
      "[\u001b[32m\u001b[1m INFO  \u001b[21m\u001b[0m]       28  +3.57e-07  2.471e-01  1.146e+04  1.494e+03  4.520e+01  C2-Nr \n",
      "[\u001b[32m\u001b[1m INFO  \u001b[21m\u001b[0m]       29  +1.34e-06  5.978e-03  1.146e+04  1.493e+03  1.651e+00  C2-Nr \n",
      "[\u001b[32m\u001b[1m INFO  \u001b[21m\u001b[0m]       30  +1.26e-10  3.682e-04  1.146e+04  1.493e+03  2.453e-01  C2-Nr \n",
      "[\u001b[32m\u001b[1m INFO  \u001b[21m\u001b[0m]       31  +2.04e-10  2.161e-07  1.146e+04  1.493e+03  9.161e-03  C2-Nr \n",
      "[\u001b[32m\u001b[1m INFO  \u001b[21m\u001b[0m]     success in 31 steps \n",
      "[\u001b[32m\u001b[1m INFO  \u001b[21m\u001b[0m]     outgoing LW flux   = +1.15e+04 W m-2      \n",
      "[\u001b[32m\u001b[1m INFO  \u001b[21m\u001b[0m]     total flux at TOA  = +1.00e-01 W m-2      \n",
      "[\u001b[32m\u001b[1m INFO  \u001b[21m\u001b[0m]     total flux at BOA  = +1.00e-01 W m-2      \n",
      "[\u001b[32m\u001b[1m INFO  \u001b[21m\u001b[0m]     column max loss    = +1.83e-07 W m-2  (+1.83e-04 %)  \n",
      "[\u001b[32m\u001b[1m INFO  \u001b[21m\u001b[0m]     final cost value   = +2.16e-07 W m-2      \n",
      "[\u001b[32m\u001b[1m INFO  \u001b[21m\u001b[0m]     surf temperature   = 1492.887  K         \n",
      "--------------------------------- \n",
      "    sample 2/9 \n",
      "    Ps=9.5e+09 Pa  ,  Ms=1.1e+25 kg  ,  Rs=7.6e+06 m  ,  Fi=1.0e-01 \n",
      "[\u001b[32m\u001b[1m INFO  \u001b[21m\u001b[0m]     sol_type = 3 \n",
      "[\u001b[32m\u001b[1m INFO  \u001b[21m\u001b[0m]     flux_int = 0.10 W m-2 \n",
      "[\u001b[32m\u001b[1m INFO  \u001b[21m\u001b[0m]     step  resid_med    cost     flux_OLR    max(x)    max(|dx|)   flags \n"
     ]
    },
    {
     "ename": "MethodError",
     "evalue": "MethodError: no method matching getindex(::Nothing, ::Int64)",
     "output_type": "error",
     "traceback": [
      "MethodError: no method matching getindex(::Nothing, ::Int64)\n",
      "\n",
      "Stacktrace:\n",
      " [1] radtrans!(atmos::AGNI.atmosphere.Atmos_t, lw::Bool; calc_cf::Bool)\n",
      "   @ AGNI.energy ~/AGNI/src/energy.jl:233\n",
      " [2] radtrans!\n",
      "   @ ~/AGNI/src/energy.jl:35 [inlined]\n",
      " [3] calc_fluxes!(atmos::AGNI.atmosphere.Atmos_t, latent::Bool, convect::Bool, sens_heat::Bool, conduct::Bool; convect_sf::Float64, latent_sf::Float64, calc_cf::Bool)\n",
      "   @ AGNI.energy ~/AGNI/src/energy.jl:700\n",
      " [4] calc_fluxes!\n",
      "   @ ~/AGNI/src/energy.jl:666 [inlined]\n",
      " [5] (::AGNI.solver.var\"#_fev!#3\"{Int64, Bool, Bool, Bool, Bool, AGNI.atmosphere.Atmos_t, AGNI.solver.var\"#_set_tmps!#2\"{Int64, AGNI.atmosphere.Atmos_t}})(x::Vector{Float64}, resid::Vector{Float64})\n",
      "   @ AGNI.solver ~/AGNI/src/solver.jl:244\n",
      " [6] (::AGNI.solver.var\"#_calc_jac_res!#4\"{Float64, AGNI.solver.var\"#_fev!#3\"{Int64, Bool, Bool, Bool, Bool, AGNI.atmosphere.Atmos_t, AGNI.solver.var\"#_set_tmps!#2\"{Int64, AGNI.atmosphere.Atmos_t}}, Vector{Float64}, Vector{Float64}, Vector{Float64}, Vector{Float64}, Vector{Float64}})(x::Vector{Float64}, jacob::Matrix{Float64}, resid::Vector{Float64}, central::Bool, order::Int64, which::Vector{Bool})\n",
      "   @ AGNI.solver ~/AGNI/src/solver.jl:317\n",
      " [7] solve_energy!(atmos::AGNI.atmosphere.Atmos_t; sol_type::Int64, chem_type::Int64, convect::Bool, sens_heat::Bool, conduct::Bool, latent::Bool, dx_max::Float64, max_steps::Int64, max_runtime::Float64, fdw::Float64, fdc::Bool, fdo::Int64, method::Int64, ls_method::Int64, easy_start::Bool, ls_increase::Float64, detect_plateau::Bool, perturb_all::Bool, modplot::Int64, save_frames::Bool, modprint::Int64, plot_jacobian::Bool, conv_atol::Float64, conv_rtol::Float64)\n",
      "   @ AGNI.solver ~/AGNI/src/solver.jl:570\n",
      " [8] solve_energy!\n",
      "   @ ~/AGNI/src/solver.jl:103 [inlined]\n",
      " [9] top-level scope\n",
      "   @ ~/AGNI/misc/jl_notebook_cell_df34fa98e69747e1a8f8a730347b8e2f_X12sdnNjb2RlLXJlbW90ZQ==.jl:25"
     ]
    }
   ],
   "source": [
    "atm_arr = atmosphere.Atmos_t[]\n",
    "\n",
    "@printf(\"Running model for %d samples... \\n\", nsamps)\n",
    "\n",
    "atmos = deepcopy(atm_base)\n",
    "for i in 1:nsamps\n",
    "    @printf(\"    sample %d/%d \\n\",i,nsamps)\n",
    "\n",
    "    # update planet structure\n",
    "    row = structure[i,:]\n",
    "    Ps = row[1] * 1e3 * 1e5 # convert kbar -> bar -> Pa\n",
    "    Ms = row[2] * M_earth\n",
    "    Rs = row[3] * R_earth\n",
    "    Fi = row[4]\n",
    "\n",
    "    atmos.rp = Rs\n",
    "    atmos.p_boa = Ps\n",
    "    atmos.grav_surf = 6.67e-11 * Ms / Rs^2\n",
    "    atmos.flux_int = Fi\n",
    "    @printf(\"    Ps=%.1e Pa  ,  Ms=%.1e kg  ,  Rs=%.1e m  ,  Fi=%.1e \\n\",Ps,Ms,Rs,Fi)\n",
    "\n",
    "    atmosphere.generate_pgrid!(atmos)\n",
    "\n",
    "    # Run model\n",
    "    solver_success = nl.solve_energy!(atmos,\n",
    "                                    sol_type=3,\n",
    "                                    sens_heat=true,\n",
    "                                    latent=true,\n",
    "                                    method=1,\n",
    "                                    dx_max=400.0,        # Smaller steps\n",
    "                                    ls_method=1 ,\n",
    "                                    save_frames=false, modplot=0,\n",
    "                                    modprint=1, perturb_all=true,\n",
    "                                    conv_atol=1.0e-4\n",
    "                                    )\n",
    "\n",
    "    # Store result\n",
    "    push!(atm_arr, deepcopy(atmos))\n",
    "    @printf(\"--------------------------------- \\n\")\n",
    "end\n",
    "println(\"Done!\")"
   ]
  },
  {
   "cell_type": "code",
   "execution_count": 23,
   "metadata": {},
   "outputs": [
    {
     "data": {
      "text/plain": [
       "1.5"
      ]
     },
     "metadata": {},
     "output_type": "display_data"
    }
   ],
   "source": [
    "fs=12\n",
    "lw=1.5"
   ]
  },
  {
   "cell_type": "code",
   "execution_count": 24,
   "metadata": {},
   "outputs": [
    {
     "ename": "BoundsError",
     "evalue": "BoundsError: attempt to access 0-element Vector{AGNI.atmosphere.Atmos_t} at index [1]",
     "output_type": "error",
     "traceback": [
      "BoundsError: attempt to access 0-element Vector{AGNI.atmosphere.Atmos_t} at index [1]\n",
      "\n",
      "Stacktrace:\n",
      " [1] getindex(A::Vector{AGNI.atmosphere.Atmos_t}, i1::Int64)\n",
      "   @ Base ./essentials.jl:13\n",
      " [2] top-level scope\n",
      "   @ ~/AGNI/misc/jl_notebook_cell_df34fa98e69747e1a8f8a730347b8e2f_X14sdnNjb2RlLXJlbW90ZQ==.jl:15"
     ]
    }
   ],
   "source": [
    "arr_P = atmos.pl .* 1.0e-5 # Convert Pa to bar\n",
    "ylims  = (arr_P[1], arr_P[end])\n",
    "yticks = 10.0 .^ round.(Int,range( log10(ylims[1]), stop=log10(ylims[2]), step=1))\n",
    "\n",
    "plt = plot(framestyle=:box, size=(800,400), dpi=300,\n",
    "                leg=:outertopright, legcolumn=-1,\n",
    "                tickfontsize=fs, guidefontsize=fs, legendfontsize=fs,\n",
    "                legendtitlefontsize=fs,\n",
    "                leg_title=\"Index\",\n",
    "                left_margin=4Plots.mm, bottom_margin=4Plots.mm)\n",
    "\n",
    "\n",
    "p = Plots.palette(:batlow, nsamps)\n",
    "for i in 1:nsamps\n",
    "    this_atm = atm_arr[i]\n",
    "    plot!(plt, this_atm.tmpl, this_atm.pl* 1.0e-5, lc=p[i], linewidth=lw, label=@sprintf(\"%d\",i))\n",
    "end\n",
    "\n",
    "xlabel!(plt, \"Temperature [K]\")\n",
    "xaxis!(plt, minorgrid=true)\n",
    "ylabel!(plt, \"Pressure [bar]\")\n",
    "yflip!(plt)\n",
    "yaxis!(plt, yscale=:log10, ylims=ylims, yticks=yticks)\n",
    "display(plt)\n",
    "savefig(plt,joinpath(output_dir,\"profiles.pdf\"))"
   ]
  },
  {
   "cell_type": "code",
   "execution_count": 25,
   "metadata": {},
   "outputs": [
    {
     "ename": "BoundsError",
     "evalue": "BoundsError: attempt to access 0-element Vector{AGNI.atmosphere.Atmos_t} at index [1]",
     "output_type": "error",
     "traceback": [
      "BoundsError: attempt to access 0-element Vector{AGNI.atmosphere.Atmos_t} at index [1]\n",
      "\n",
      "Stacktrace:\n",
      " [1] getindex(A::Vector{AGNI.atmosphere.Atmos_t}, i1::Int64)\n",
      "   @ Base ./essentials.jl:13\n",
      " [2] top-level scope\n",
      "   @ ~/AGNI/misc/jl_notebook_cell_df34fa98e69747e1a8f8a730347b8e2f_X15sdnNjb2RlLXJlbW90ZQ==.jl:10"
     ]
    }
   ],
   "source": [
    "plt = plot(framestyle=:box, size=(800,400), dpi=300,\n",
    "                leg=:outertopright, legcolumn=-1,\n",
    "                tickfontsize=fs, guidefontsize=fs, legendfontsize=fs,\n",
    "                legendtitlefontsize=fs,\n",
    "                leg_title=\"Index\",\n",
    "                left_margin=4Plots.mm, bottom_margin=4Plots.mm)\n",
    "\n",
    "p = Plots.palette(:batlow, nsamps)\n",
    "for i in 1:nsamps\n",
    "    this_atm = atm_arr[i]\n",
    "\n",
    "\n",
    "    # band widths\n",
    "    wd = atmos.bands_wid * 1e9 # convert to nm\n",
    "\n",
    "    # band centres\n",
    "    xe = atmos.bands_cen * 1e9 # convert to nm\n",
    "\n",
    "    # TOA upward spectral flux [erg s-1 cm-2 nm-1]\n",
    "    yt = (atmos.band_u_sw[1, :] .+  atmos.band_u_lw[1, :]) .* 1000.0 ./ wd\n",
    "\n",
    "    plot!(plt, xe, yt, lc=p[i], linewidth=lw, label=@sprintf(\"%d\",i))\n",
    "end\n",
    "\n",
    "xlabel!(plt, \"Wavelength [nm]\")\n",
    "xaxis!(plt, xscale=:lo010, minorgrid=true, xlims=(300.0, 6.0e3))\n",
    "\n",
    "ylabel!(plt, \"Flux density [W m-2 nm-1]\")\n",
    "yaxis!(plt, yscale=:log10, ylims=(10, Inf))\n",
    "\n",
    "display(plt)\n",
    "savefig(plt,joinpath(output_dir,\"emission.pdf\"))"
   ]
  },
  {
   "cell_type": "code",
   "execution_count": 26,
   "metadata": {},
   "outputs": [
    {
     "name": "stdout",
     "output_type": "stream",
     "text": [
      "Done \n"
     ]
    }
   ],
   "source": [
    "for (i, atm) in enumerate(atm_arr)\n",
    "    @printf(\"Writing index %d \\n\",i)\n",
    "    dump.write_ncdf(atm, joinpath(atm.OUT_DIR, \"$i.nc\"))\n",
    "end\n",
    "@printf(\"Done \\n\")"
   ]
  }
 ],
 "metadata": {
  "kernelspec": {
   "display_name": "Julia 1.10.5",
   "language": "julia",
   "name": "julia-1.10"
  },
  "language_info": {
   "file_extension": ".jl",
   "mimetype": "application/julia",
   "name": "julia",
   "version": "1.10.5"
  }
 },
 "nbformat": 4,
 "nbformat_minor": 2
}
