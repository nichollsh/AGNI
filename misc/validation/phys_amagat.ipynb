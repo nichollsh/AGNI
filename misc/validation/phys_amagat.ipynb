{
 "cells": [
  {
   "cell_type": "markdown",
   "metadata": {},
   "source": [
    "## Amagat's law of additive volumes\n",
    "https://iopscience.iop.org/article/10.1088/1742-6596/500/16/162004/pdf"
   ]
  },
  {
   "cell_type": "code",
   "execution_count": 1,
   "metadata": {},
   "outputs": [
    {
     "data": {
      "text/plain": [
       "8.314"
      ]
     },
     "metadata": {},
     "output_type": "display_data"
    }
   ],
   "source": [
    "R_gas = 8.314"
   ]
  },
  {
   "cell_type": "code",
   "execution_count": 10,
   "metadata": {},
   "outputs": [
    {
     "data": {
      "text/plain": [
       "rho_ideal (generic function with 1 method)"
      ]
     },
     "metadata": {},
     "output_type": "display_data"
    }
   ],
   "source": [
    "# Ideal gas equation of state\n",
    "function rho_ideal(mu, tmp, prs)\n",
    "    return prs * mu / (tmp * R_gas)\n",
    "end"
   ]
  },
  {
   "cell_type": "code",
   "execution_count": 13,
   "metadata": {},
   "outputs": [
    {
     "data": {
      "text/plain": [
       "rho_mix (generic function with 1 method)"
      ]
     },
     "metadata": {},
     "output_type": "display_data"
    }
   ],
   "source": [
    "# Additive volume law, to get total density\n",
    "function rho_mix(vmr::Array{Float64,1}, mmw::Array{Float64,1}, tmp::Float64, prs::Float64, mmw_tot::Float64)::Float64\n",
    "\n",
    "    ngas = length(vmr)\n",
    "\n",
    "    # calculate the density (and mass-mixing ratio) of each gas\n",
    "    rho::Array{Float64, 1} = zeros(Float64, ngas)\n",
    "    mmr::Array{Float64, 1} = zeros(Float64, ngas)\n",
    "    for i in 1:ngas\n",
    "        rho[i] = rho_ideal(mmw[i], tmp, prs)\n",
    "        mmr[i] = vmr[i] * mmw[i] / mmw_tot\n",
    "    end\n",
    "\n",
    "    # add them together, assuming ideal additive volumes (inverse density)\n",
    "    return 1.0 / sum(mmr[:] ./ rho[:])\n",
    "end\n"
   ]
  },
  {
   "cell_type": "code",
   "execution_count": 15,
   "metadata": {},
   "outputs": [
    {
     "name": "stdout",
     "output_type": "stream",
     "text": [
      "Density, Amagat: 40.89487611258119\n",
      "Density, Ideal:  40.894876112581194\n"
     ]
    }
   ],
   "source": [
    "# Test mixture\n",
    "vmr = [0.2,   0.8]\n",
    "mmw = [18e-3, 2e-3]\n",
    "prs = 1e5\n",
    "tmp = 300.0\n",
    "\n",
    "mmw_tot = sum(vmr[:] .+ mmw[:])\n",
    "println(\"Density, Amagat: \",rho_mix(vmr, mmw, tmp, prs,  mmw_tot))\n",
    "println(\"Density, Ideal:  \",rho_ideal(mmw_tot, tmp, prs))\n"
   ]
  }
 ],
 "metadata": {
  "kernelspec": {
   "display_name": "Julia 1.11.3",
   "language": "julia",
   "name": "julia-1.11"
  },
  "language_info": {
   "file_extension": ".jl",
   "mimetype": "application/julia",
   "name": "julia",
   "version": "1.11.3"
  }
 },
 "nbformat": 4,
 "nbformat_minor": 2
}
