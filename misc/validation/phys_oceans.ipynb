{
 "cells": [
  {
   "cell_type": "code",
   "execution_count": 1,
   "id": "2ff17703",
   "metadata": {},
   "outputs": [
    {
     "data": {
      "text/plain": [
       "Dict{String, Float64} with 8 entries:\n",
       "  \"N2\"  => 806.11\n",
       "  \"CO\"  => 793.2\n",
       "  \"CH4\" => 422.36\n",
       "  \"NH3\" => 681.97\n",
       "  \"H2O\" => 958.37\n",
       "  \"SO2\" => 1461.1\n",
       "  \"CO2\" => 1178.4\n",
       "  \"H2\"  => 70.516"
      ]
     },
     "metadata": {},
     "output_type": "display_data"
    }
   ],
   "source": [
    "# Table of liquid-phase density for ocean calculation [kg/m^3]\n",
    "#     All taken from this website:\n",
    "#     https://encyclopedia.airliquide.com/water#properties\n",
    "const _lookup_liquid_rho::Dict{String, Float64} = Dict([\n",
    "    (\"H2O\", 958.37 ),  # boiling\n",
    "    (\"CO2\", 1178.4 ),  # triple\n",
    "    (\"H2\" , 70.516 ),  # boiling\n",
    "    (\"CH4\", 422.36 ),  # boiling\n",
    "    (\"CO\" , 793.2  ),  # boiling\n",
    "    (\"N2\" , 806.11 ),  # boiling\n",
    "    (\"NH3\", 681.97 ),  # boiling\n",
    "    (\"SO2\", 1461.1 ),  # boiling\n",
    "])"
   ]
  },
  {
   "cell_type": "code",
   "execution_count": 2,
   "id": "d6c6cae6",
   "metadata": {},
   "outputs": [
    {
     "data": {
      "text/plain": [
       "liquid_rho (generic function with 1 method)"
      ]
     },
     "metadata": {},
     "output_type": "display_data"
    }
   ],
   "source": [
    "function liquid_rho(name::String)::Float64\n",
    "    if name in keys(_lookup_liquid_rho)\n",
    "        return _lookup_liquid_rho[name]\n",
    "    else\n",
    "        return 1e99\n",
    "    end\n",
    "end"
   ]
  },
  {
   "cell_type": "code",
   "execution_count": 41,
   "id": "c36a3b14",
   "metadata": {},
   "outputs": [
    {
     "data": {
      "text/plain": [
       "ocean_layers (generic function with 1 method)"
      ]
     },
     "metadata": {},
     "output_type": "display_data"
    }
   ],
   "source": [
    "function ocean_layers(sigs::Dict{String, Float64},\n",
    "                        fOB::Float64, hCS::Float64, Rpl::Float64)::Array\n",
    "\n",
    "    # Areas [m2]\n",
    "    aPL::Float64 = 4 * pi * Rpl^2    # planet area\n",
    "    aOB::Float64 = aPL * fOB         # ocean basin\n",
    "\n",
    "    # Total capacity of oceans [m3]\n",
    "    v_cap_OB::Float64 = aOB * hCS\n",
    "\n",
    "    # Get liquid densities\n",
    "    liqs::Array{String, 1} = collect(keys(sigs))\n",
    "    rhos::Array{Float64,1} = Float64[ liquid_rho(l) for l in liqs]\n",
    "\n",
    "    # Sort liquids by decreasing density\n",
    "    mask::Array{Int, 1} = reverse(sortperm(rhos))\n",
    "\n",
    "    # Loop through liquids, filling oceans first\n",
    "    v_tot_OB::Float64 = 0.0 # current amount of all things in oceans\n",
    "    v_fill_OB::Array{Float64,1} = zero(rhos)  # volume of each puddle in oceans\n",
    "    v_fill_CS::Array{Float64,1} = zero(rhos)  # volume of each puddle on continents\n",
    "    output::Array = []\n",
    "    for (j,i) in enumerate(mask)\n",
    "        # total volume of rain from this liquid\n",
    "        v_liq = sigs[liqs[i]] * aPL / rhos[i]\n",
    "\n",
    "        # volume currently contained within oceans\n",
    "        v_tot_OB = sum(v_fill_OB)\n",
    "\n",
    "        # oceans full already?\n",
    "        if v_tot_OB >= v_cap_OB\n",
    "            # add all liquid to surface\n",
    "            v_fill_CS[i] = v_liq\n",
    "\n",
    "        # oceans not full yet\n",
    "        else\n",
    "            # oceans *will* be filled by this liquid\n",
    "            if v_liq > v_cap_OB - v_tot_OB\n",
    "                v_fill_OB[i] = v_cap_OB - v_tot_OB\n",
    "                v_fill_CS[i] = v_liq - v_fill_OB[i]\n",
    "\n",
    "            # oceans can contain all of this liquid, with some space left over\n",
    "            else\n",
    "                v_fill_OB[i] = v_liq\n",
    "            end\n",
    "        end\n",
    "\n",
    "        # output array with consolidated info\n",
    "        #   surface liquid is divided by total area, since it covers oceans+continents\n",
    "        if v_fill_CS[i] + v_fill_OB[i] > 1.0\n",
    "            push!(output, (j, liqs[i], v_fill_OB[i]/aOB, v_fill_CS[i]/aPL))\n",
    "        end\n",
    "    end\n",
    "\n",
    "    return output\n",
    "end # end ocean_layers"
   ]
  },
  {
   "cell_type": "code",
   "execution_count": 42,
   "id": "b66237f9",
   "metadata": {},
   "outputs": [
    {
     "data": {
      "text/plain": [
       "977.4"
      ]
     },
     "metadata": {},
     "output_type": "display_data"
    }
   ],
   "source": [
    "earth_annu = 977.4 # H2O rain per year, kg/m^2"
   ]
  },
  {
   "cell_type": "code",
   "execution_count": 43,
   "id": "182532db",
   "metadata": {},
   "outputs": [
    {
     "data": {
      "text/plain": [
       "2-element Vector{Any}:\n",
       " (2, \"CO2\", 1414.3471373613938, 0.0)\n",
       " (3, \"H2O\", 2185.652862638606, 1748.178177133908)"
      ]
     },
     "metadata": {},
     "output_type": "display_data"
    }
   ],
   "source": [
    "sigs = Dict([\n",
    "    (\"H2O\",earth_annu*3000),\n",
    "    (\"CO2\",1e6),\n",
    "    (\"H2S\",0.0),\n",
    "    ])\n",
    "\n",
    "f = 0.6    # 1\n",
    "h = 3600.0 # m\n",
    "r = 6371e3 # m\n",
    "\n",
    "out = ocean_layers(sigs, f, h, r)\n",
    "out"
   ]
  },
  {
   "cell_type": "code",
   "execution_count": 44,
   "id": "971633d0",
   "metadata": {},
   "outputs": [
    {
     "data": {
      "text/plain": [
       "5348.178177133908"
      ]
     },
     "metadata": {},
     "output_type": "display_data"
    }
   ],
   "source": [
    "sum([o[3]+o[4] for o in out])"
   ]
  }
 ],
 "metadata": {
  "kernelspec": {
   "display_name": "Julia 1.11.7",
   "language": "julia",
   "name": "julia-1.11"
  },
  "language_info": {
   "file_extension": ".jl",
   "mimetype": "application/julia",
   "name": "julia",
   "version": "1.11.7"
  }
 },
 "nbformat": 4,
 "nbformat_minor": 5
}
