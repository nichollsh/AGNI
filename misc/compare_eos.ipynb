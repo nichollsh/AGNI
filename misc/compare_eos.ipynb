{
 "cells": [
  {
   "cell_type": "code",
   "execution_count": 1,
   "metadata": {},
   "outputs": [
    {
     "name": "stderr",
     "output_type": "stream",
     "text": [
      "\u001b[32m\u001b[1m  Activating\u001b[22m\u001b[39m project at `/dataserver/users/formingworlds/nicholls/AGNI`\n"
     ]
    }
   ],
   "source": [
    "# Set directory\n",
    "ROOT_DIR = abspath(joinpath(pwd(),\"../\"))\n",
    "\n",
    "# Activate environment\n",
    "ENV[\"GKSwstype\"] = \"100\"\n",
    "import Pkg\n",
    "Pkg.activate(ROOT_DIR)\n",
    "\n",
    "# Include libraries\n",
    "using AGNI"
   ]
  },
  {
   "cell_type": "code",
   "execution_count": 2,
   "metadata": {},
   "outputs": [],
   "source": [
    "using Plots\n",
    "using LoggingExtras"
   ]
  },
  {
   "cell_type": "code",
   "execution_count": 3,
   "metadata": {},
   "outputs": [
    {
     "name": "stderr",
     "output_type": "stream",
     "text": [
      "┌ Info:  \n",
      "└ @ Main /Users/users/nicholls/Projects/AGNI/misc/jl_notebook_cell_df34fa98e69747e1a8f8a730347b8e2f_W3sdnNjb2RlLXJlbW90ZQ==.jl:9\n",
      "┌ Info: Testing H2O ideal gas equation of state\n",
      "└ @ Main /Users/users/nicholls/Projects/AGNI/misc/jl_notebook_cell_df34fa98e69747e1a8f8a730347b8e2f_W3sdnNjb2RlLXJlbW90ZQ==.jl:10\n",
      "┌ Info: Expected values = [1.0833532e-5, 0.0072223549, 0.433341295, 17.020475, 67.709577] kg m-3\n",
      "└ @ Main /Users/users/nicholls/Projects/AGNI/misc/jl_notebook_cell_df34fa98e69747e1a8f8a730347b8e2f_W3sdnNjb2RlLXJlbW90ZQ==.jl:19\n",
      "┌ Info: Modelled values = [1.0833532380673217e-5, 0.00722235492044881, 0.43334129522692866, 17.02047506782909, 67.7095773792076] kg m-3\n",
      "└ @ Main /Users/users/nicholls/Projects/AGNI/misc/jl_notebook_cell_df34fa98e69747e1a8f8a730347b8e2f_W3sdnNjb2RlLXJlbW90ZQ==.jl:20\n",
      "┌ Info:  \n",
      "└ @ Main /Users/users/nicholls/Projects/AGNI/misc/jl_notebook_cell_df34fa98e69747e1a8f8a730347b8e2f_W3sdnNjb2RlLXJlbW90ZQ==.jl:25\n",
      "┌ Info: Testing H2O AQUA equation of state\n",
      "└ @ Main /Users/users/nicholls/Projects/AGNI/misc/jl_notebook_cell_df34fa98e69747e1a8f8a730347b8e2f_W3sdnNjb2RlLXJlbW90ZQ==.jl:26\n",
      "┌ Info: Expected values = [926.121571, 0.0072269991, 0.435193299, 17.022212, 66.8198662] kg m-3\n",
      "└ @ Main /Users/users/nicholls/Projects/AGNI/misc/jl_notebook_cell_df34fa98e69747e1a8f8a730347b8e2f_W3sdnNjb2RlLXJlbW90ZQ==.jl:34\n",
      "┌ Info: Modelled values = [926.121065724028, 0.007233258217245609, 0.43519343882486616, 17.036312721021382, 66.87862680807115] kg m-3\n",
      "└ @ Main /Users/users/nicholls/Projects/AGNI/misc/jl_notebook_cell_df34fa98e69747e1a8f8a730347b8e2f_W3sdnNjb2RlLXJlbW90ZQ==.jl:35\n"
     ]
    }
   ],
   "source": [
    "rtol = 1e-3\n",
    "total = 0\n",
    "failed = 0\n",
    "\n",
    "# -------------\n",
    "# Test ideal gas equation of state\n",
    "# -------------\n",
    "ideal_H2O::phys.Gas_t = phys.load_gas(\"$ROOT_DIR/res/thermodynamics/\", \"H2O\", true, false)\n",
    "@info \" \"\n",
    "@info \"Testing H2O ideal gas equation of state\"\n",
    "t_test = [200.0,  300.0, 500.0,   1273.0,  3200.0] # Tested values of temperature [K]\n",
    "p_test = [1e0,    1e3,   1e5,     1e7,     1e8]    # Tested values of pressure [Pa]\n",
    "v_expt = [1.0833532e-5, 7.2223549e-3, 4.33341295e-1, 1.7020475e1, 6.7709577e1]  # Expected rho [kg m-3]\n",
    "v_obs  = zero(p_test)\n",
    "test_pass = true\n",
    "for i in 1:5\n",
    "    v_obs[i] = phys.calc_rho_gas(t_test[i], p_test[i], ideal_H2O)\n",
    "end\n",
    "@info \"Expected values = $(v_expt) kg m-3\"\n",
    "@info \"Modelled values = $(v_obs) kg m-3\"\n",
    "\n",
    "# -------------\n",
    "# Test AQUA equation of state\n",
    "# -------------\n",
    "@info \" \"\n",
    "@info \"Testing H2O AQUA equation of state\"\n",
    "aqua_H2O::phys.Gas_t = phys.load_gas(\"$ROOT_DIR/res/thermodynamics/\", \"H2O\", true, true)\n",
    "v_expt = [9.26121571e2, 7.2269991e-3, 4.35193299e-1, 1.7022212e1, 6.68198662e1]\n",
    "a_obs  = zero(p_test)\n",
    "test_pass = true\n",
    "for i in 1:5\n",
    "    a_obs[i] = phys.calc_rho_gas(t_test[i], p_test[i], aqua_H2O)\n",
    "end\n",
    "@info \"Expected values = $(v_expt) kg m-3\"\n",
    "@info \"Modelled values = $(a_obs) kg m-3\""
   ]
  }
 ],
 "metadata": {
  "kernelspec": {
   "display_name": "Julia 1.11.3",
   "language": "julia",
   "name": "julia-1.11"
  },
  "language_info": {
   "file_extension": ".jl",
   "mimetype": "application/julia",
   "name": "julia",
   "version": "1.11.3"
  }
 },
 "nbformat": 4,
 "nbformat_minor": 2
}
